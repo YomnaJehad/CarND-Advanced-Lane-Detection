{
 "cells": [
  {
   "cell_type": "markdown",
   "metadata": {},
   "source": [
    "# Advanced Lane Finding Project\n",
    "## The goals / steps of this project are the following:\n",
    "* Compute the camera calibration matrix and distortion coefficients given a set of chessboard images.\n",
    "* Apply a distortion correction to raw images.\n",
    "* Use color transforms, gradients, etc., to create a thresholded binary image.\n",
    "* Apply a perspective transform to rectify binary image (\"birds-eye view\").\n",
    "* Detect lane pixels and fit to find the lane boundary.\n",
    "* Determine the curvature of the lane and vehicle position with respect to center.\n",
    "* Warp the detected lane boundaries back onto the original image.\n",
    "* Output visual display of the lane boundaries and numerical estimation of lane curvature and vehicle position.<br />\n"
   ]
  },
  {
   "cell_type": "code",
   "execution_count": 1,
   "metadata": {},
   "outputs": [],
   "source": [
    "#First the imports\n",
    "import numpy as np\n",
    "import cv2\n",
    "import glob #it didn't work with me for some reason in the workspace but let's keep it just in case\n",
    "import matplotlib.pyplot as plt\n",
    "import matplotlib.image as mpimg #i will use the plotting method of the previous project\n",
    "\n",
    "%matplotlib inline\n",
    "#%matplotlib qt\n"
   ]
  },
  {
   "cell_type": "markdown",
   "metadata": {},
   "source": [
    "## Now I'll compute the camera calibration using chessboard images"
   ]
  },
  {
   "cell_type": "code",
   "execution_count": 2,
   "metadata": {},
   "outputs": [
    {
     "data": {
      "text/plain": [
       "\"\\ntestImageInput=mpimg.imread('/home/workspace/CarND-Advanced-Lane-Lines/camera_cal/calibration10.jpg')\\ntestImageOutput= cv2.undistort(testImageInput,mtx,dist,None,mtx)\\n\\nf, (ax1, ax2) = plt.subplots(1, 2, figsize=(24, 9))\\nf.tight_layout()\\nax1.imshow(testImageInput)\\nax1.set_title('Original Image', fontsize=50)\\nax2.imshow(testImageOutput)\\nax2.set_title('Undistorted Image', fontsize=50)\\nplt.subplots_adjust(left=0., right=1, top=0.9, bottom=0.)\\n\\nmpimg.imsave('/home/workspace/CarND-Advanced-Lane-Lines/test_images/undistort-output.jpg',testImageOutput )\\n\""
      ]
     },
     "execution_count": 2,
     "metadata": {},
     "output_type": "execute_result"
    }
   ],
   "source": [
    "\n",
    "# prepare object points, like (0,0,0), (1,0,0), (2,0,0) ....,(6,5,0)\n",
    "nx=9 #number of corners horizontally \n",
    "ny=6 #number of corners vertically\n",
    "objp = np.zeros((ny*nx,3), np.float32)\n",
    "objp[:,:2] = np.mgrid[0:9,0:6].T.reshape(-1,2)\n",
    "\n",
    "# Arrays to store object points and image points from all the images.\n",
    "\n",
    "objpoints = [] # 3d points in real world space, but the z coordinate has to always be zero, because the pictures were taken on a flat surface\n",
    "imgpoints = [] # 2d points in image plane.\n",
    "\n",
    "# Make a list of calibration images\n",
    "\n",
    "images=[]\n",
    "for i in range(1,21):\n",
    "    s='/home/workspace/CarND-Advanced-Lane-Lines/camera_cal/calibration'+str(i)+'.jpg'\n",
    "    #print(s)\n",
    "    img=mpimg.imread(s)\n",
    "    images.append(img)\n",
    "    \n",
    "    #plt.imshow(img)\n",
    "#print(len(images))\n",
    "\n",
    "# Step through the list and search for chessboard corners\n",
    "\n",
    "for img in images:\n",
    "    #First transform to grayScale because this is what the cv2 calibration functions deal with\n",
    "    gray = cv2.cvtColor(img,cv2.COLOR_BGR2GRAY)\n",
    "    # Find the chessboard corners\n",
    "    ret, corners = cv2.findChessboardCorners(gray, (nx,ny),None)\n",
    "\n",
    "    # If found, add object points, image points\n",
    "    if ret == True:\n",
    "        objpoints.append(objp) \n",
    "        imgpoints.append(corners)\n",
    "        #print(corners)\n",
    "\n",
    "        # Draw and display the corners -Not an important step, just for testing and visualization\n",
    "        img = cv2.drawChessboardCorners(img, (nx,ny), corners, ret)\n",
    "        #plt.imshow(img)\n",
    "        \n",
    "#NOW i have the corners of all the distorted images, it's time to calculate the calibration matrices\n",
    "\n",
    "gray=cv2.cvtColor(images[1],cv2.COLOR_BGR2GRAY)\n",
    "ret,mtx,dist,rvecs,tvecs=cv2.calibrateCamera(objpoints,imgpoints,gray.shape[::-1],None,None)\n",
    "\n",
    "#Now that i have the matrices i want to test the undistortion correction, so i'll try it on one of the test images\n",
    "# The output of my trials will be saved in this path ''\n",
    "\"\"\"\n",
    "testImageInput=mpimg.imread('/home/workspace/CarND-Advanced-Lane-Lines/camera_cal/calibration10.jpg')\n",
    "testImageOutput= cv2.undistort(testImageInput,mtx,dist,None,mtx)\n",
    "\n",
    "f, (ax1, ax2) = plt.subplots(1, 2, figsize=(24, 9))\n",
    "f.tight_layout()\n",
    "ax1.imshow(testImageInput)\n",
    "ax1.set_title('Original Image', fontsize=50)\n",
    "ax2.imshow(testImageOutput)\n",
    "ax2.set_title('Undistorted Image', fontsize=50)\n",
    "plt.subplots_adjust(left=0., right=1, top=0.9, bottom=0.)\n",
    "\n",
    "mpimg.imsave('/home/workspace/CarND-Advanced-Lane-Lines/test_images/undistort-output.jpg',testImageOutput )\n",
    "\"\"\"\n",
    "#Now that the testing worked fine, it means we have a good distortion correction matrices\n",
    "#Each time i want to undistort a Frame, i call the cv2.undistort(frameImage,mtx,dist,None,mtx) and it returns\n",
    "#the undistorted frame\n",
    "#NOW let's head to the next step,Color Space transformation\n"
   ]
  },
  {
   "cell_type": "markdown",
   "metadata": {},
   "source": [
    "## Now transform images into a suitable Color Space"
   ]
  },
  {
   "cell_type": "code",
   "execution_count": 3,
   "metadata": {},
   "outputs": [
    {
     "data": {
      "text/plain": [
       "\"\\n#TESTING\\n#FIRST FIX THE IMAGE DISTORTION\\nimage_=cv2.undistort(testImages[5],mtx,dist,None,mtx)\\n    \\noutt=getCombinedBinary(image_)\\nf, (ax1, ax2) = plt.subplots(1, 2, figsize=(24, 9))\\nf.tight_layout()\\nax1.imshow(testImages[5])\\nax1.set_title('Original Image', fontsize=50)\\nax2.imshow(outt, cmap='gray')\\nax2.set_title('Thresholded Magnitude', fontsize=50)\\nplt.subplots_adjust(left=0., right=1, top=0.9, bottom=0.)\\n   \\n\""
      ]
     },
     "execution_count": 3,
     "metadata": {},
     "output_type": "execute_result"
    }
   ],
   "source": [
    "#I'm going to transform the images into HLS: Hue, Light, Saturation Color Space because i'm expecting the images\n",
    "#to be in difficult light conditions, so if we exclude the Light from HLS, we should find it easy to know the\n",
    "# color of objects in the image\n",
    "#Note to self: i made this step before the perspective transform because i just thought to transform a part of the\n",
    "#image that's already undistorted and in binary form, is a nicer thing to do.. idk..\n",
    "\n",
    "\n",
    "#Basically i'm going to get the gray scale,and the S channel from the HSL space and combine them to form a binray image\n",
    "\n",
    "#First upload all the images \n",
    "testImages=[]\n",
    "testImages.append(mpimg.imread('/home/workspace/CarND-Advanced-Lane-Lines/test_images/straight_lines1.jpg'))\n",
    "testImages.append(mpimg.imread('/home/workspace/CarND-Advanced-Lane-Lines/test_images/straight_lines2.jpg'))\n",
    "\n",
    "for i in range(1,7):\n",
    "    s='/home/workspace/CarND-Advanced-Lane-Lines/test_images/test'+str(i)+'.jpg'\n",
    "    #print(s)\n",
    "    img=mpimg.imread(s)\n",
    "    testImages.append(img)\n",
    "    \n",
    "#print(len(testImages))\n",
    "\n",
    "def get_abs_mag_dir_binary(image, abs_thresh=(0, 255),mag_thresh=(0, 255),dir_thresh=(0, np.pi/2),sobel_kernel=3):\n",
    "    \n",
    "    ###First The magnitude part\n",
    "    \n",
    "    #First grayScale\n",
    "    gray=cv2.cvtColor(image,cv2.COLOR_RGB2GRAY)\n",
    "    #Get the \"derivative\" in the x direction\n",
    "    sobelx=cv2.Sobel(gray,cv2.CV_64F,1,0,ksize=sobel_kernel)\n",
    "    sobely=cv2.Sobel(gray,cv2.CV_64F, 0,1,ksize=sobel_kernel)\n",
    "    \n",
    "    #idk if getting the mag is better or if getting sobelx only is better, but will try out everything, so let's see \n",
    "    mag= np.sqrt((sobelx**2)+(sobely**2))\n",
    "    magScaled= np.uint8(mag*255/np.max(mag))\n",
    "    \n",
    "    magBinaryOutput= np.zeros_like(magScaled)\n",
    "    magBinaryOutput[(magScaled>=mag_thresh[0]) & (magScaled<=mag_thresh[1])]=1\n",
    "    \n",
    "    \n",
    "    ##Second For the Direction part\n",
    "    \n",
    "    sobelx_abs=np.absolute(sobelx)\n",
    "    sobely_abs=np.absolute(sobely)  \n",
    "    \n",
    "    \n",
    "    direction=np.arctan2(sobely_abs,sobelx_abs) \n",
    "    \n",
    "    dirBinaryOutput=np.zeros_like(direction)\n",
    "    dirBinaryOutput[(direction>=dir_thresh[0]) & (direction<=dir_thresh[1])]=1 \n",
    "    \n",
    "    #Finally for the ABSOLUTE PART\n",
    "    abs_scaled =np.uint8(255*sobelx_abs/np.max(sobelx_abs)) \n",
    "    absBinary= np.zeros_like(abs_scaled)\n",
    "    absBinary[(abs_scaled>= abs_thresh[0]) & (abs_scaled <= abs_thresh[1])] =1\n",
    "    \n",
    "    #NOW COMBINE\n",
    "    combined = np.zeros_like(dirBinaryOutput)\n",
    "    #combined[(absBinary == 1) |((magBinaryOutput == 1) & (dirBinaryOutput == 1))] = 1\n",
    "    #combined[(absBinary == 1) &(  (dirBinaryOutput == 1))] = 1\n",
    "    combined[(absBinary == 1) |((magBinaryOutput == 1) )] = 1\n",
    "\n",
    "\n",
    "    \n",
    "    \n",
    "    return absBinary\n",
    "\n",
    "\n",
    "def get_s_binary(img, s_thresh=(0, 255)):\n",
    "    \n",
    "    hls=cv2.cvtColor(img,cv2.COLOR_RGB2HLS)\n",
    "    #I remember from the quizes and my trials that the S channel was the best in different lighting conditions so..\n",
    "    s=hls[:,:,2]\n",
    "    \n",
    "\n",
    "    binary_output=np.zeros_like(s)\n",
    "    binary_output[(s>s_thresh[0]) & (s<=s_thresh[1])]=1 \n",
    "    \n",
    "    \n",
    "    return binary_output\n",
    "\n",
    "#TESTING\n",
    "\"\"\"\n",
    "outt=get_abs_mag_dir_binary(testImages[6],abs_thresh=(20,100),mag_thresh=(200, 255),dir_thresh=(0.7, 1.3))\n",
    "#outt=get_s_binary(testImages[6],s_thresh=(165,255))\n",
    "#plt.imshow(outt)\n",
    "\n",
    "f, (ax1, ax2) = plt.subplots(1, 2, figsize=(24, 9))\n",
    "f.tight_layout()\n",
    "ax1.imshow(testImages[6])\n",
    "ax1.set_title('Original Image', fontsize=50)\n",
    "ax2.imshow(outt, cmap='gray')\n",
    "ax2.set_title('Thresholded Magnitude', fontsize=50)\n",
    "plt.subplots_adjust(left=0., right=1, top=0.9, bottom=0.)\n",
    "\"\"\"\n",
    "\n",
    "\n",
    "\n",
    "#Now let's define a function that transforms each frame/image into my combined binary fram/image\n",
    "def getCombinedBinary(image,Abs_Thresh=(15,100),Mag_Thresh=(100, 255),Dir_Thresh=(0.7, 1.3),S_Thresh=(170,255),Sobel_Kernel=3):\n",
    "    \"\"\"\n",
    "    #s_thresh=(170, 255), sx_thresh=(20, 100)\n",
    "    #First grayScale\n",
    "    gray=cv2.cvtColor(image,cv2.COLOR_BGR2GRAY)\n",
    "    #Get the \"derivative\" in the x direction\n",
    "    sobelx=cv2.Sobel(gray,cv2.CV_64F, 1,0,ksize=sobel_kernel)\n",
    "    sobely=cv2.Sobel(gray,cv2.CV_64F, 0,1,ksize=sobel_kernel)\n",
    "    \n",
    "    #idk if getting the mag is better or if getting sobelx only is better, but will try out everything, so let's see \n",
    "    mag= np.sqrt((sobelx**2)+(sobely**2))\n",
    "    magScaled= np.uint8(mag*255/np.max(mag))\n",
    "    \n",
    "    magBinaryOutput= np.zeros_like(mag_scaled)\n",
    "    magBinaryOutput[(mag_scaled>=mag_thresh[0]) & (mag_scaled<=mag_thresh[1])]=1\n",
    "    \"\"\"\n",
    "    outt1=get_abs_mag_dir_binary(image,abs_thresh=Abs_Thresh,mag_thresh=Mag_Thresh,dir_thresh=Dir_Thresh,sobel_kernel=Sobel_Kernel)\n",
    "    outt2=get_s_binary(image,s_thresh=S_Thresh)\n",
    "    \n",
    "    #combined = np.dstack(( np.zeros_like(outt1), outt1, outt2)) * 255\n",
    "    \n",
    "    #E7NA WE2FNA YA YOMNA W 3ANDK MOSHKELA FE EL OUTPUT BYTLA3 FE BO23A BEL3ARD KEDA+ MSH 3ARFEN NE3ML DSTACK W HYA SHAKLAHA MOHEMA BTW \n",
    "    combined = np.zeros_like(outt2)\n",
    "    combined[((outt1 == 1) | (outt2 == 1))] = 1\n",
    "\n",
    "    return combined\n",
    "\"\"\"\n",
    "#TESTING\n",
    "#FIRST FIX THE IMAGE DISTORTION\n",
    "image_=cv2.undistort(testImages[5],mtx,dist,None,mtx)\n",
    "    \n",
    "outt=getCombinedBinary(image_)\n",
    "f, (ax1, ax2) = plt.subplots(1, 2, figsize=(24, 9))\n",
    "f.tight_layout()\n",
    "ax1.imshow(testImages[5])\n",
    "ax1.set_title('Original Image', fontsize=50)\n",
    "ax2.imshow(outt, cmap='gray')\n",
    "ax2.set_title('Thresholded Magnitude', fontsize=50)\n",
    "plt.subplots_adjust(left=0., right=1, top=0.9, bottom=0.)\n",
    "   \n",
    "\"\"\"\n",
    "#Now we test this pipeline on the 8 images in the examples directory\n"
   ]
  },
  {
   "cell_type": "markdown",
   "metadata": {},
   "source": [
    "## Now time for Perspective Transform"
   ]
  },
  {
   "cell_type": "code",
   "execution_count": 4,
   "metadata": {},
   "outputs": [
    {
     "data": {
      "text/plain": [
       "'\\n#TEST\\npres_trans_output=persp_trans(outt)\\nplt.imshow(pres_trans_output)\\n'"
      ]
     },
     "execution_count": 4,
     "metadata": {},
     "output_type": "execute_result"
    }
   ],
   "source": [
    "#Let's pick an area that most probably represents a rectangle in the real world \n",
    "#Let's define a function for transforming each image\n",
    "def persp_trans(img):\n",
    "    img_size=(img.shape[1],img.shape[0])\n",
    "     \n",
    "    src=np.float32(\n",
    "        [[195,img.shape[0]],   #Low_Left\n",
    "         [1140,img.shape[0]],   #Low_Right\n",
    "         [550,470],            #Up_Left\n",
    "         [720,470]])           #Up_Right\n",
    "    \n",
    "    offset=300\n",
    "    \n",
    "    dst=np.float32(\n",
    "        [[offset,img.shape[0]],\n",
    "         [img.shape[1]-offset,img.shape[0]],\n",
    "         [offset,offset],\n",
    "         [img.shape[1]-offset,offset]])\n",
    "    \n",
    "    M = cv2.getPerspectiveTransform(src, dst)\n",
    "    Minv = cv2.getPerspectiveTransform(dst, src)\n",
    "    \n",
    "    warped = cv2.warpPerspective(img, M, img_size, flags=cv2.INTER_LINEAR)\n",
    "    \n",
    "    return warped, M, Minv\n",
    "\"\"\"\n",
    "#TEST\n",
    "pres_trans_output=persp_trans(outt)\n",
    "plt.imshow(pres_trans_output)\n",
    "\"\"\" "
   ]
  },
  {
   "cell_type": "markdown",
   "metadata": {},
   "source": [
    "### Now we (suppose that we) have a reasonable lane detection, curvature calculation, pos estimation let's warp the image back and do the visual supporting to each frame"
   ]
  },
  {
   "cell_type": "code",
   "execution_count": 5,
   "metadata": {},
   "outputs": [],
   "source": [
    "\n",
    "def unwarp(undist,warped,left_fitx,right_fitx,ploty,Minv,lefty,leftx,righty,rightx):\n",
    "    \"\"\"\n",
    "    print('warped input',warped.shape[0])\n",
    "    print('warped input',warped.shape[1])\n",
    "    print('warped input',warped.shape[2])\n",
    "\n",
    "    print('undist input',undist.shape[0])\n",
    "    print('undist input',undist.shape[1])\n",
    "    print('undist input',undist.shape[2])\n",
    "    \"\"\"\n",
    "    # Create an image to draw the lines on\n",
    "    warp_zero = np.zeros_like(warped).astype(np.uint8)\n",
    "    #color_warp = np.dstack((warp_zero, warp_zero, warp_zero))\n",
    "    color_warp=warp_zero\n",
    "    \"\"\"\n",
    "    print ('color_warp' ,color_warp.shape[0])\n",
    "    print ('color_warp' ,color_warp.shape[1])\n",
    "    print ('color_warp' ,color_warp.shape[2])\n",
    "    \"\"\"\n",
    "    # Recast the x and y points into usable format for cv2.fillPoly()\n",
    "    pts_left = np.array([np.transpose(np.vstack([left_fitx, ploty]))])\n",
    "    pts_right = np.array([np.flipud(np.transpose(np.vstack([right_fitx, ploty])))])\n",
    "    pts = np.hstack((pts_left, pts_right))\n",
    "\n",
    "    # Draw the lane onto the warped blank image\n",
    "    cv2.fillPoly(color_warp, np.int_([pts]), (0,255, 0))\n",
    "    \n",
    "    color_warp[lefty, leftx] = [255, 0, 0]   #RED LEFT CURVE\n",
    "    color_warp[righty, rightx] = [0, 0, 255] #BLUE RIGHT CURVE\n",
    "    print(lefty)\n",
    "\n",
    "\n",
    "    # Warp the blank back to original image space using inverse perspective matrix (Minv)\n",
    "    newwarp = cv2.warpPerspective(color_warp, Minv, (undist.shape[1], undist.shape[0])) \n",
    "    # Combine the result with the original image\n",
    "    result = cv2.addWeighted(undist, 1, newwarp, 0.3, 0)\n",
    "    #plt.imshow(result)\n",
    "    \n",
    "    return result\n",
    "    #return warped\n"
   ]
  },
  {
   "cell_type": "markdown",
   "metadata": {},
   "source": [
    "## Now let's apply our algorithms to detect the lane lines\n",
    "### First the histogram peaks, the window search"
   ]
  },
  {
   "cell_type": "code",
   "execution_count": 6,
   "metadata": {},
   "outputs": [],
   "source": [
    "def find_lane_pixels(img):\n",
    "    pres_trans_output=img/255\n",
    "    bottom_half=pres_trans_output[img.shape[0]//2:,:]\n",
    "    \n",
    "    histogram=np.sum(bottom_half,axis=0)\n",
    "    \n",
    "    out_img = np.dstack((img, img, img))\n",
    "    #out_img=img\n",
    "    \n",
    "    #Now pick a point to in the middle of the left half and the right half as a starting point\n",
    "    midpoint = np.int(histogram.shape[0]//2)\n",
    "    leftx_base = np.argmax(histogram[:midpoint])\n",
    "    rightx_base = np.argmax(histogram[midpoint:]) + midpoint\n",
    "    \n",
    "    for_veh_pos=[]\n",
    "    for_veh_pos.append(midpoint)\n",
    "    for_veh_pos.append(leftx_base)\n",
    "    for_veh_pos.append(rightx_base)\n",
    "    \n",
    "    #HYPERPARAMETERS\n",
    "    nwindows=9\n",
    "    margin=100\n",
    "    minpix=50\n",
    "    window_height = np.int(img.shape[0]//nwindows)\n",
    "    \n",
    "    #Determine the nonzero pixels in the whole wraped binary image  \n",
    "    nonzero = img.nonzero()\n",
    "    nonzeroy = np.array(nonzero[0])\n",
    "    nonzerox = np.array(nonzero[1])\n",
    "    \n",
    "    #Update the current x coordinate of the center of the window  \n",
    "    leftx_current = leftx_base\n",
    "    rightx_current = rightx_base\n",
    "    \n",
    "    # Create empty lists to receive left and right lane pixel indices\n",
    "    left_lane_inds = []\n",
    "    right_lane_inds = []\n",
    "    \n",
    "    #Now iterate for each window\n",
    "    for window in range(nwindows):\n",
    "        #First identify the boundaries of each window\n",
    "        \n",
    "        win_y_low = img.shape[0] - (window+1)*window_height\n",
    "        win_y_high = img.shape[0] - window*window_height\n",
    "        \n",
    "        win_xleft_low = leftx_current-margin\n",
    "        win_xleft_high = leftx_current+margin\n",
    "        win_xright_low = rightx_current-margin\n",
    "        win_xright_high = rightx_current+margin\n",
    "        \"\"\"\n",
    "        print(win_y_low)\n",
    "        print(win_y_high)\n",
    "        print(win_xleft_low)\n",
    "        print(win_xleft_high)\n",
    "        print(win_xright_high)\n",
    "        print(win_xright_low)\n",
    "        \"\"\"\n",
    "        \"\"\"\n",
    "        #Now draw rectangles, but this is just for visualization it's not important for the pipeline\n",
    "        cv2.rectangle(out_img,(win_xleft_low,win_y_low),\n",
    "        (win_xleft_high,win_y_high),(0,255,0), 2) \n",
    "        cv2.rectangle(out_img,(win_xright_low,win_y_low),\n",
    "        (win_xright_high,win_y_high),(0,255,0), 2) \n",
    "        \"\"\"\n",
    "        #Extract the nonzero points which are inside each window (simple geometry)#\n",
    "        good_left_inds = ((nonzeroy>=win_y_low)&(nonzeroy<win_y_high)&(nonzerox>=win_xleft_low)&(nonzerox<win_xleft_high)).nonzero()[0]\n",
    "        good_right_inds = ((nonzeroy>=win_y_low)&(nonzeroy<win_y_high)&(nonzerox>=win_xright_low)&(nonzerox<win_xright_high)).nonzero()[0]\n",
    "        #Now this is like a list for each window, append it to an integration array\n",
    "        \n",
    "        left_lane_inds.append(good_left_inds)\n",
    "        right_lane_inds.append(good_right_inds)\n",
    "        \n",
    "        #Recenter window if the number of nonzero pixels found inside of it is larger than minpix(let's tune this part as well)#\n",
    "        \n",
    "        if len(good_left_inds)> minpix :\n",
    "            leftx_current=np.int(np.mean(nonzerox[good_left_inds]))\n",
    "        if len(good_right_inds)>minpix :\n",
    "            rightx_current=np.int(np.mean(nonzerox[good_right_inds]))\n",
    "        \n",
    "    #Now this is the end of our iteration over each window\n",
    "    #Let's combine all the lane pixles found into one integration list\n",
    "    try:\n",
    "        left_lane_inds = np.concatenate(left_lane_inds)\n",
    "        right_lane_inds = np.concatenate(right_lane_inds)\n",
    "    except ValueError:\n",
    "        # Avoids an error if the above is not implemented fully,, i kept this because\n",
    "        #If no pixles were found (just mere error handling)\n",
    "        pass\n",
    "    \n",
    "    #Now that we have a right and a left list that represent the lane's pixles(in a 0 or 1 form allover the nonzero arrays as i understood)#\n",
    "    \n",
    "    leftx = nonzerox[left_lane_inds]\n",
    "    lefty = nonzeroy[left_lane_inds] \n",
    "    rightx = nonzerox[right_lane_inds]\n",
    "    righty = nonzeroy[right_lane_inds]\n",
    "    \n",
    "    return leftx, lefty, rightx, righty, out_img,for_veh_pos\n",
    "\n",
    "\n",
    "        \n",
    "    \n",
    "    \n",
    "    \n",
    "    \n",
    "\n",
    "\n",
    "\n",
    "    \n",
    "#TEST\n",
    "#plt.plot(histo(pres_trans_output)) #this is when it only returned a histogram plot \n",
    "#leftx, lefty, rightx, righty, out_img=find_lane_pixels(pres_trans_output)\n",
    "#outtt=np.dstack((np.zeros_like(out_img),out_img,pres_trans_output))\n",
    "#out_img[lefty, leftx] = [255, 0, 0]\n",
    "#out_img[righty, rightx] = [0, 0, 255]\n",
    "\n",
    "#plt.imshow(out_img)\n"
   ]
  },
  {
   "cell_type": "markdown",
   "metadata": {},
   "source": [
    "##  Now let's apply our fitting polynomial algorithm and calculate the curvature in the pixel space"
   ]
  },
  {
   "cell_type": "code",
   "execution_count": 21,
   "metadata": {},
   "outputs": [
    {
     "data": {
      "text/plain": [
       "'\\n##Testing\\nout_img = fit_poly(pres_trans_output)\\n\\nplt.imshow(out_img)\\n   '"
      ]
     },
     "execution_count": 21,
     "metadata": {},
     "output_type": "execute_result"
    }
   ],
   "source": [
    "def fit_poly(img,undist,Minv):\n",
    "    #First of course call the window algorithm function to determined the pixles\n",
    "    leftx, lefty, rightx, righty, out_img,for_veh_pos=find_lane_pixels(img)\n",
    "    \n",
    "    #As we can see, it returns lists of points which are supposed to form a curve, so let's fit a curve to them\n",
    "    #Let's assume the equation is of degree 2 \n",
    "    left_fit = np.polyfit(lefty,leftx,2)\n",
    "    right_fit = np.polyfit(righty,rightx,2)\n",
    "    \n",
    "    #now forget about the pixels we got before -for a while-, now we have a curve!\n",
    "    #Let's generate y values for this curve\n",
    "    ploty = np.linspace(0, img.shape[0]-1, img.shape[0] )\n",
    "    \n",
    "    #Let's get the correspoinding x values of each curve \n",
    "    #Simple algebra this is done by substituting the ploty (y values) in the curve's equation\n",
    "    try:\n",
    "        left_fitx = left_fit[0]*ploty**2 + left_fit[1]*ploty + left_fit[2]\n",
    "        right_fitx = right_fit[0]*ploty**2 + right_fit[1]*ploty + right_fit[2]\n",
    "    except TypeError:\n",
    "        # Avoids an error if `left` and `right_fit` are still none or incorrect\n",
    "        print('The function failed to fit a line!')\n",
    "        #If that happen's let's assume the coefficients ourselves to be ones\n",
    "        left_fitx = 1*ploty**2 + 1*ploty\n",
    "        right_fitx = 1*ploty**2 + 1*ploty\n",
    "        \n",
    "        \n",
    "    #This part is for visualization it's not important for the pipeline\n",
    "    out_img[lefty, leftx] = [255, 0, 0]   #RED LEFT CURVE\n",
    "    out_img[righty, rightx] = [0, 0, 255] #BLUE RIGHT CURVE\n",
    "\n",
    "    # Plots the left and right polynomials on the lane lines\n",
    "    #plt.plot(left_fitx, ploty, color='yellow')\n",
    "    #plt.plot(right_fitx, ploty, color='yellow')\n",
    "    \n",
    "    #\n",
    "    #\n",
    "    #\n",
    "    #\n",
    "    \n",
    "    #NOW for the curve calculation part\n",
    "    \"\"\"\n",
    "    # Define conversions in x and y from pixels space to meters\n",
    "    ym_per_pix = 30/720 # meters per pixel in y dimension\n",
    "    xm_per_pix = 3.7/700 # meters per pixel in x dimension\n",
    "    \n",
    "    #ploty = np.linspace(0, 719, num=720)# to cover same y-range as image\n",
    "    \n",
    "    y_eval = np.max(ploty)\n",
    "    \n",
    "    #left_fit_cr = np.polyfit(ploty*ym_per_pix, leftx*xm_per_pix, 2)\n",
    "    #right_fit_cr = np.polyfit(ploty*ym_per_pix, rightx*xm_per_pix, 2)\n",
    "   \n",
    "    \n",
    "    left_curverad = ((1+(2*left_fit[0]*y_eval*ym_per_pix+left_fit[1])**2))**1.5/np.absolute(2*left_fit[0])\n",
    "    right_curverad = ((1+(2*right_fit[0]*y_eval*ym_per_pix+right_fit[1])**2))**1.5/np.absolute(2*right_fit[0])\n",
    "    \"\"\"\n",
    "    \n",
    "    # Define conversions in x and y from pixels space to meters\n",
    "    my = 30/700 # meters per pixel in y dimension\n",
    "    mx = 3.7/600 # meters per pixel in x dimension\n",
    "    \n",
    "    #ploty = np.linspace(0, 719, num=720)# to cover same y-range as image\n",
    "    \n",
    "    #y_eval = np.max(ploty)*my\n",
    "    #print(y_eval)\n",
    "    y_eval=700\n",
    "    \n",
    "    #Let's use the student's approach\n",
    "    \n",
    "    #x= mx / (my ** 2) *a*(y**2)+(mx/my)*b*y+c\n",
    "    \n",
    "    left_fit[0]= mx/(my**2)*left_fit[0]\n",
    "    right_fit[0]=mx/(my**2)*right_fit[0]\n",
    "    \n",
    "    left_fit[1]=(mx/my)*left_fit[1]\n",
    "    right_fit[1]=(mx/my)*right_fit[1]\n",
    "    \n",
    "    #Now we have the curves in the real world dimensions, we can substitute in the curvature equation with ease\n",
    "    left_curverad = (1+(2*left_fit[0]*y_eval+left_fit[1])**2)**(3/2)/ (np.absolute(2*left_fit[0]))\n",
    "    right_curverad =  (1+(2*right_fit[0]*y_eval+right_fit[1])**2)**(3/2)/ (np.absolute(2*right_fit[0])) \n",
    "    \n",
    "    \n",
    "    #print(left_curverad,'m', right_curverad,'m')\n",
    "    radius=(left_curverad+right_curverad)/2\n",
    "    #text1='Radius of Curvature is =' +str(radius)+'m'\n",
    "    #z = “In the basket are %s and %s” % (x,y)\n",
    "    text1=\"Radius of Curvature is = %.2f m\" %radius \n",
    "    \n",
    "    #NOW let's try to calculate the vehicles position with respect to the lane's center\n",
    "    lanes_mid=(for_veh_pos[1]+for_veh_pos[2])//2\n",
    "    frame_mid=for_veh_pos[0]\n",
    "    veh_pos_pixel= lanes_mid-frame_mid\n",
    "    veh_pos_m = veh_pos_pixel*mx\n",
    "    veh_pos_m=abs(veh_pos_m)\n",
    "    if veh_pos_pixel>0 : #positive this means the vehicle is shifted left (because the lanes_mid is larger)\n",
    "        #print('vehicle approximately shifted left with',veh_pos_m,'m')\n",
    "        #text2='vehicle approximately shifted left with',str(veh_pos_m),'m'\n",
    "        text2= \"Vehicle is %.2f m left of the center \" %veh_pos_m\n",
    "    \n",
    "    elif veh_pos_pixel<0: #negative this means the vehicle is shifted right\n",
    "        #print('vehicle approximately shifted right',veh_pos_m,'m')\n",
    "        #text2='vehicle approximately shifted right',str(veh_pos_m),'m'\n",
    "        text2=\"Vehicle is %.2f m right of the center\" %veh_pos_m\n",
    "    elif veh_pos_pixel == 0: #Centered correctly\n",
    "        #print('vehicle approximately centered')\n",
    "        text2='Vehicle approximately centered'\n",
    "        \n",
    "        \n",
    "    \n",
    "    \n",
    "    \n",
    "    #NOW TO UNWARP THE FRAAAAAAME YA RAB\n",
    "    unwarpped=unwarp(undist,out_img, left_fitx, right_fitx, ploty,Minv,lefty,leftx,righty,rightx)\n",
    "    \n",
    "    font                   = cv2.FONT_HERSHEY_SIMPLEX\n",
    "    bottomLeftCornerOfText = (11,100)\n",
    "    fontScale              = 2\n",
    "    fontColor              = (255,255,255)\n",
    "    lineType               = 3\n",
    "\n",
    "    cv2.putText(unwarpped,text1, \n",
    "    bottomLeftCornerOfText, \n",
    "    font, \n",
    "    fontScale,\n",
    "    fontColor,\n",
    "    lineType)\n",
    "    \n",
    "    \n",
    "    bottomLeftCornerOfText = (11,150)\n",
    "    \n",
    "    cv2.putText(unwarpped,text2, \n",
    "    bottomLeftCornerOfText, \n",
    "    font, \n",
    "    fontScale,\n",
    "    fontColor,\n",
    "    lineType)\n",
    "    \n",
    "\n",
    "        \n",
    "    \n",
    "\n",
    "    return unwarpped\n",
    "\n",
    "\"\"\"\n",
    "##Testing\n",
    "out_img = fit_poly(pres_trans_output)\n",
    "\n",
    "plt.imshow(out_img)\n",
    "   \"\"\" \n",
    "    \n",
    "    "
   ]
  },
  {
   "cell_type": "code",
   "execution_count": null,
   "metadata": {},
   "outputs": [],
   "source": []
  },
  {
   "cell_type": "markdown",
   "metadata": {},
   "source": [
    "## Pipeline to test images  "
   ]
  },
  {
   "cell_type": "code",
   "execution_count": 8,
   "metadata": {},
   "outputs": [
    {
     "data": {
      "text/plain": [
       "<matplotlib.image.AxesImage at 0x7f5af0aaa390>"
      ]
     },
     "execution_count": 8,
     "metadata": {},
     "output_type": "execute_result"
    },
    {
     "data": {
      "image/png": "[encoded data removed]",
      "text/plain": [
       "<matplotlib.figure.Figure at 0x7f5abca1c470>"
      ]
     },
     "metadata": {
      "needs_background": "light"
     },
     "output_type": "display_data"
    }
   ],
   "source": [
    "#Remember the test images were uploaded in the Color Space cell\n",
    "#First the distortion and the color space \n",
    "\n",
    "testtest=testImages[6]\n",
    "\n",
    "#FIRST FIX THE IMAGE DISTORTION\n",
    "image_=cv2.undistort(testtest,mtx,dist,None,mtx)\n",
    "\n",
    "binImg=getCombinedBinary(image_)\n",
    "\n",
    "plt.imshow(binImg)"
   ]
  },
  {
   "cell_type": "code",
   "execution_count": 9,
   "metadata": {},
   "outputs": [
    {
     "data": {
      "text/plain": [
       "<matplotlib.image.AxesImage at 0x7f5abc4b7390>"
      ]
     },
     "execution_count": 9,
     "metadata": {},
     "output_type": "execute_result"
    },
    {
     "data": {
      "image/png": "[encoded data removed]",
      "text/plain": [
       "<matplotlib.figure.Figure at 0x7f5af0b2e390>"
      ]
     },
     "metadata": {
      "needs_background": "light"
     },
     "output_type": "display_data"
    }
   ],
   "source": [
    "pres,M_,Minv_=persp_trans(binImg)\n",
    "plt.imshow(pres)"
   ]
  },
  {
   "cell_type": "code",
   "execution_count": 20,
   "metadata": {},
   "outputs": [
    {
     "name": "stdout",
     "output_type": "stream",
     "text": [
      "4255.16596371 m 5524.55848325 m\n",
      "vehicle approximately shifted left with 0.1665 m\n",
      "[640 640 640 ...,  79  79  79]\n"
     ]
    },
    {
     "data": {
      "text/plain": [
       "<matplotlib.image.AxesImage at 0x7f5ab1dda048>"
      ]
     },
     "execution_count": 20,
     "metadata": {},
     "output_type": "execute_result"
    },
    {
     "data": {
      "image/png": "[encoded data removed]",
      "text/plain": [
       "<matplotlib.figure.Figure at 0x7f5ab1dfed30>"
      ]
     },
     "metadata": {
      "needs_background": "light"
     },
     "output_type": "display_data"
    }
   ],
   "source": [
    "outimg = fit_poly(pres,image_,Minv_)\n",
    "\n",
    "\n",
    "\n",
    "plt.imshow(outimg)\n"
   ]
  },
  {
   "cell_type": "markdown",
   "metadata": {},
   "source": [
    "## Let's add the class that shall help us when detecting lanes becomes a rough job"
   ]
  },
  {
   "cell_type": "code",
   "execution_count": null,
   "metadata": {},
   "outputs": [],
   "source": [
    "#Now my scenario is \n",
    "# Receive uhmm 5 frames and process them through the regular testImages pipeline, then record the output lines-data\n",
    "#in an array of Line objects (size 5),, uh right, before accepting each object data, it should be validated\n",
    "#which means it should pass the sanity checks: - similar curvature values - seperated by a reasonable horizontal\n",
    "#distance - roughly paralell(i think it's the same as similar curvature lol)\n",
    "#so when this 'first 5 frames' stage finishes ; \n",
    "# we head to the stage of relying on them"
   ]
  },
  {
   "cell_type": "code",
   "execution_count": null,
   "metadata": {},
   "outputs": [],
   "source": [
    "# Define a class to receive the characteristics of each line detection\n",
    "class Line():\n",
    "    def __init__(self):\n",
    "        # was the line detected in the last iteration?\n",
    "        self.detected = False  \n",
    "        # x values of the last n fits of the line\n",
    "        self.recent_xfitted = [] \n",
    "        #average x values of the fitted line over the last n iterations\n",
    "        self.bestx = None     \n",
    "        #polynomial coefficients averaged over the last n iterations\n",
    "        self.best_fit = None  \n",
    "        #polynomial coefficients for the most recent fit\n",
    "        self.current_fit = [np.array([False])]  \n",
    "        #radius of curvature of the line in some units\n",
    "        self.radius_of_curvature = None \n",
    "        #distance in meters of vehicle center from the line\n",
    "        self.line_base_pos = None \n",
    "        #difference in fit coefficients between last and new fits\n",
    "        self.diffs = np.array([0,0,0], dtype='float') \n",
    "        #x values for detected line pixels\n",
    "        self.allx = None  \n",
    "        #y values for detected line pixels\n",
    "        self.ally = None  "
   ]
  },
  {
   "cell_type": "markdown",
   "metadata": {},
   "source": [
    "## The lanes' coloring isn't the best i can, but let's for now head to\n",
    "## Try it on video! \n"
   ]
  },
  {
   "cell_type": "code",
   "execution_count": 11,
   "metadata": {},
   "outputs": [],
   "source": [
    "# Import everything needed to edit/save/watch video clips\n",
    "from moviepy.editor import VideoFileClip\n",
    "from IPython.display import HTML\n"
   ]
  },
  {
   "cell_type": "code",
   "execution_count": 12,
   "metadata": {},
   "outputs": [],
   "source": [
    "def process_frame(frame):\n",
    "    #Pipeline\n",
    "    undistorted_frame=cv2.undistort(frame,mtx,dist,None,mtx)\n",
    "    colorTransformed_frame=getCombinedBinary(undistorted_frame)\n",
    "    presTrans_frame,M_,Minv_=persp_trans(colorTransformed_frame)\n",
    "    final_frame = fit_poly(presTrans_frame,undistorted_frame,Minv_)\n",
    "    \n",
    "\n",
    "    \n",
    "\n",
    "    \n",
    "    \n",
    "    \n",
    "    \n",
    "    \n",
    "    return final_frame\n",
    "    "
   ]
  },
  {
   "cell_type": "code",
   "execution_count": 18,
   "metadata": {},
   "outputs": [
    {
     "name": "stdout",
     "output_type": "stream",
     "text": [
      "3094.38486001 m 1979.37131508 m\n",
      "vehicle approximately shifted left with 0.339166666667 m\n",
      "[640 640 640 ...,  79  79  79]\n",
      "[MoviePy] >>>> Building video /home/workspace/CarND-Advanced-Lane-Lines/output_video.mp4\n",
      "[MoviePy] Writing video /home/workspace/CarND-Advanced-Lane-Lines/output_video.mp4\n"
     ]
    },
    {
     "name": "stderr",
     "output_type": "stream",
     "text": [
      "  0%|          | 1/251 [00:00<01:30,  2.77it/s]"
     ]
    },
    {
     "name": "stdout",
     "output_type": "stream",
     "text": [
      "3094.38486001 m 1979.37131508 m\n",
      "vehicle approximately shifted left with 0.339166666667 m\n",
      "[640 640 640 ...,  79  79  79]\n"
     ]
    },
    {
     "name": "stderr",
     "output_type": "stream",
     "text": [
      "\r",
      "  1%|          | 2/251 [00:00<01:27,  2.84it/s]"
     ]
    },
    {
     "name": "stdout",
     "output_type": "stream",
     "text": [
      "3231.12706901 m 2219.0877364 m\n",
      "vehicle approximately shifted left with 0.363833333333 m\n",
      "[640 640 640 ...,  79  79  79]\n"
     ]
    },
    {
     "name": "stderr",
     "output_type": "stream",
     "text": [
      "\r",
      "  1%|          | 3/251 [00:01<01:24,  2.94it/s]"
     ]
    },
    {
     "name": "stdout",
     "output_type": "stream",
     "text": [
      "3323.16394187 m 1930.08396917 m\n",
      "vehicle approximately shifted left with 0.3515 m\n",
      "[640 640 640 ...,  79  79  79]\n"
     ]
    },
    {
     "name": "stderr",
     "output_type": "stream",
     "text": [
      "\r",
      "  2%|▏         | 4/251 [00:01<01:20,  3.07it/s]"
     ]
    },
    {
     "name": "stdout",
     "output_type": "stream",
     "text": [
      "3775.91019476 m 1959.50021237 m\n",
      "vehicle approximately shifted left with 0.296 m\n",
      "[640 640 640 ...,  79  79  79]\n"
     ]
    },
    {
     "name": "stderr",
     "output_type": "stream",
     "text": [
      "\r",
      "  2%|▏         | 5/251 [00:01<01:18,  3.15it/s]"
     ]
    },
    {
     "name": "stdout",
     "output_type": "stream",
     "text": [
      "3036.50291539 m 2708.73839086 m\n",
      "vehicle approximately shifted left with 0.265166666667 m\n",
      "[640 640 640 ...,  79  79  79]\n"
     ]
    },
    {
     "name": "stderr",
     "output_type": "stream",
     "text": [
      "\r",
      "  2%|▏         | 6/251 [00:01<01:17,  3.18it/s]"
     ]
    },
    {
     "name": "stdout",
     "output_type": "stream",
     "text": [
      "2632.79857061 m 2966.57290333 m\n",
      "vehicle approximately shifted left with 0.308333333333 m\n",
      "[640 640 640 ...,  79  79  79]\n"
     ]
    },
    {
     "name": "stderr",
     "output_type": "stream",
     "text": [
      "\r",
      "  3%|▎         | 7/251 [00:02<01:15,  3.23it/s]"
     ]
    },
    {
     "name": "stdout",
     "output_type": "stream",
     "text": [
      "2571.22541403 m 3101.90392739 m\n",
      "vehicle approximately shifted left with 0.252833333333 m\n",
      "[640 640 640 ...,  79  79  79]\n"
     ]
    },
    {
     "name": "stderr",
     "output_type": "stream",
     "text": [
      "\r",
      "  3%|▎         | 8/251 [00:02<01:13,  3.29it/s]"
     ]
    },
    {
     "name": "stdout",
     "output_type": "stream",
     "text": [
      "2790.16192145 m 2594.96876592 m\n",
      "vehicle approximately shifted left with 0.302166666667 m\n",
      "[640 640 640 ...,  79  79  79]\n"
     ]
    },
    {
     "name": "stderr",
     "output_type": "stream",
     "text": [
      "\r",
      "  4%|▎         | 9/251 [00:02<01:12,  3.34it/s]"
     ]
    },
    {
     "name": "stdout",
     "output_type": "stream",
     "text": [
      "2435.56585617 m 2359.42093351 m\n",
      "vehicle approximately shifted left with 0.296 m\n",
      "[640 640 640 ...,  79  79  79]\n"
     ]
    },
    {
     "name": "stderr",
     "output_type": "stream",
     "text": [
      "\r",
      "  4%|▍         | 10/251 [00:03<01:11,  3.38it/s]"
     ]
    },
    {
     "name": "stdout",
     "output_type": "stream",
     "text": [
      "2575.89314466 m 1954.64102456 m\n",
      "vehicle approximately shifted left with 0.271333333333 m\n",
      "[640 640 640 ...,  79  79  79]\n"
     ]
    },
    {
     "name": "stderr",
     "output_type": "stream",
     "text": [
      "\r",
      "  4%|▍         | 11/251 [00:03<01:10,  3.39it/s]"
     ]
    },
    {
     "name": "stdout",
     "output_type": "stream",
     "text": [
      "2448.62202381 m 1706.1878124 m\n",
      "vehicle approximately shifted left with 0.252833333333 m\n",
      "[640 640 640 ...,  79  79  79]\n"
     ]
    },
    {
     "name": "stderr",
     "output_type": "stream",
     "text": [
      "\r",
      "  5%|▍         | 12/251 [00:03<01:10,  3.39it/s]"
     ]
    },
    {
     "name": "stdout",
     "output_type": "stream",
     "text": [
      "2000.76768128 m 1835.46164812 m\n",
      "vehicle approximately shifted left with 0.320666666667 m\n",
      "[640 640 640 ...,  79  79  79]\n"
     ]
    },
    {
     "name": "stderr",
     "output_type": "stream",
     "text": [
      "\r",
      "  5%|▌         | 13/251 [00:03<01:10,  3.40it/s]"
     ]
    },
    {
     "name": "stdout",
     "output_type": "stream",
     "text": [
      "2045.67830112 m 1989.23753557 m\n",
      "vehicle approximately shifted left with 0.296 m\n",
      "[640 640 640 ...,  79  79  79]\n"
     ]
    },
    {
     "name": "stderr",
     "output_type": "stream",
     "text": [
      "\r",
      "  6%|▌         | 14/251 [00:04<01:10,  3.38it/s]"
     ]
    },
    {
     "name": "stdout",
     "output_type": "stream",
     "text": [
      "2227.15424438 m 2215.83959654 m\n",
      "vehicle approximately shifted left with 0.308333333333 m\n",
      "[640 640 640 ...,  79  79  79]\n"
     ]
    },
    {
     "name": "stderr",
     "output_type": "stream",
     "text": [
      "\r",
      "  6%|▌         | 15/251 [00:04<01:11,  3.31it/s]"
     ]
    },
    {
     "name": "stdout",
     "output_type": "stream",
     "text": [
      "2508.34265506 m 1997.0128757 m\n",
      "vehicle approximately shifted left with 0.308333333333 m\n",
      "[640 640 640 ...,  79  79  79]\n"
     ]
    },
    {
     "name": "stderr",
     "output_type": "stream",
     "text": [
      "\r",
      "  6%|▋         | 16/251 [00:04<01:10,  3.34it/s]"
     ]
    },
    {
     "name": "stdout",
     "output_type": "stream",
     "text": [
      "2636.45271683 m 2598.08361946 m\n",
      "vehicle approximately shifted left with 0.3145 m\n",
      "[640 640 640 ...,  79  79  79]\n"
     ]
    },
    {
     "name": "stderr",
     "output_type": "stream",
     "text": [
      "\r",
      "  7%|▋         | 17/251 [00:05<01:10,  3.34it/s]"
     ]
    },
    {
     "name": "stdout",
     "output_type": "stream",
     "text": [
      "2565.98759806 m 3286.01203612 m\n",
      "vehicle approximately shifted left with 0.308333333333 m\n",
      "[640 640 640 ...,  79  79  79]\n"
     ]
    },
    {
     "name": "stderr",
     "output_type": "stream",
     "text": [
      "\r",
      "  7%|▋         | 18/251 [00:05<01:10,  3.33it/s]"
     ]
    },
    {
     "name": "stdout",
     "output_type": "stream",
     "text": [
      "2513.16976778 m 3219.53887871 m\n",
      "vehicle approximately shifted left with 0.1665 m\n",
      "[640 640 640 ...,  79  79  79]\n"
     ]
    },
    {
     "name": "stderr",
     "output_type": "stream",
     "text": [
      "\r",
      "  8%|▊         | 19/251 [00:05<01:09,  3.33it/s]"
     ]
    },
    {
     "name": "stdout",
     "output_type": "stream",
     "text": [
      "2343.31475399 m 3403.9802402 m\n",
      "vehicle approximately shifted left with 0.185 m\n",
      "[640 640 640 ...,  79  79  79]\n"
     ]
    },
    {
     "name": "stderr",
     "output_type": "stream",
     "text": [
      "\r",
      "  8%|▊         | 20/251 [00:06<01:09,  3.33it/s]"
     ]
    },
    {
     "name": "stdout",
     "output_type": "stream",
     "text": [
      "2343.84780506 m 3421.32993769 m\n",
      "vehicle approximately shifted left with 0.178833333333 m\n",
      "[640 640 640 ...,  79  79  79]\n"
     ]
    },
    {
     "name": "stderr",
     "output_type": "stream",
     "text": [
      "\r",
      "  8%|▊         | 21/251 [00:06<01:10,  3.27it/s]"
     ]
    },
    {
     "name": "stdout",
     "output_type": "stream",
     "text": [
      "2245.13564109 m 3488.25100449 m\n",
      "vehicle approximately shifted left with 0.191166666667 m\n",
      "[640 640 640 ...,  79  79  79]\n"
     ]
    },
    {
     "name": "stderr",
     "output_type": "stream",
     "text": [
      "\r",
      "  9%|▉         | 22/251 [00:06<01:10,  3.25it/s]"
     ]
    },
    {
     "name": "stdout",
     "output_type": "stream",
     "text": [
      "2154.78767258 m 3298.65615868 m\n",
      "vehicle approximately shifted left with 0.2035 m\n",
      "[640 640 640 ...,  79  79  79]\n"
     ]
    },
    {
     "name": "stderr",
     "output_type": "stream",
     "text": [
      "\r",
      "  9%|▉         | 23/251 [00:06<01:09,  3.30it/s]"
     ]
    },
    {
     "name": "stdout",
     "output_type": "stream",
     "text": [
      "2011.69139684 m 3269.78886056 m\n",
      "vehicle approximately shifted left with 0.228166666667 m\n",
      "[640 640 640 ...,  79  79  79]\n"
     ]
    },
    {
     "name": "stderr",
     "output_type": "stream",
     "text": [
      "\r",
      " 10%|▉         | 24/251 [00:07<01:09,  3.27it/s]"
     ]
    },
    {
     "name": "stdout",
     "output_type": "stream",
     "text": [
      "2218.47799495 m 2443.78087443 m\n",
      "vehicle approximately shifted left with 0.234333333333 m\n",
      "[640 640 640 ...,  79  79  79]\n"
     ]
    },
    {
     "name": "stderr",
     "output_type": "stream",
     "text": [
      "\r",
      " 10%|▉         | 25/251 [00:07<01:08,  3.29it/s]"
     ]
    },
    {
     "name": "stdout",
     "output_type": "stream",
     "text": [
      "2422.94609078 m 2206.18558033 m\n",
      "vehicle approximately shifted left with 0.215833333333 m\n",
      "[640 640 640 ...,  79  79  79]\n"
     ]
    },
    {
     "name": "stderr",
     "output_type": "stream",
     "text": [
      "\r",
      " 10%|█         | 26/251 [00:07<01:07,  3.33it/s]"
     ]
    },
    {
     "name": "stdout",
     "output_type": "stream",
     "text": [
      "2348.20547073 m 1823.0703171 m\n",
      "vehicle approximately shifted left with 0.228166666667 m\n",
      "[640 640 640 ...,  79  79  79]\n"
     ]
    },
    {
     "name": "stderr",
     "output_type": "stream",
     "text": [
      "\r",
      " 11%|█         | 27/251 [00:08<01:07,  3.33it/s]"
     ]
    },
    {
     "name": "stdout",
     "output_type": "stream",
     "text": [
      "2643.47198631 m 2154.17016871 m\n",
      "vehicle approximately shifted left with 0.234333333333 m\n",
      "[640 640 640 ...,  79  79  79]\n"
     ]
    },
    {
     "name": "stderr",
     "output_type": "stream",
     "text": [
      "\r",
      " 11%|█         | 28/251 [00:08<01:06,  3.34it/s]"
     ]
    },
    {
     "name": "stdout",
     "output_type": "stream",
     "text": [
      "2443.71994597 m 1984.92347819 m\n",
      "vehicle approximately shifted left with 0.234333333333 m\n",
      "[640 640 640 ...,  79  79  79]\n"
     ]
    },
    {
     "name": "stderr",
     "output_type": "stream",
     "text": [
      "\r",
      " 12%|█▏        | 29/251 [00:08<01:06,  3.33it/s]"
     ]
    },
    {
     "name": "stdout",
     "output_type": "stream",
     "text": [
      "2870.34720054 m 2584.7595563 m\n",
      "vehicle approximately shifted left with 0.228166666667 m\n",
      "[640 640 640 ...,  79  79  79]\n"
     ]
    },
    {
     "name": "stderr",
     "output_type": "stream",
     "text": [
      "\r",
      " 12%|█▏        | 30/251 [00:09<01:06,  3.33it/s]"
     ]
    },
    {
     "name": "stdout",
     "output_type": "stream",
     "text": [
      "2992.417029 m 2115.19999445 m\n",
      "vehicle approximately shifted left with 0.228166666667 m\n",
      "[640 640 640 ...,  79  79  79]\n"
     ]
    },
    {
     "name": "stderr",
     "output_type": "stream",
     "text": [
      "\r",
      " 12%|█▏        | 31/251 [00:09<01:06,  3.29it/s]"
     ]
    },
    {
     "name": "stdout",
     "output_type": "stream",
     "text": [
      "3088.83289141 m 3355.42172477 m\n",
      "vehicle approximately shifted left with 0.117166666667 m\n",
      "[640 640 640 ...,  79  79  79]\n"
     ]
    },
    {
     "name": "stderr",
     "output_type": "stream",
     "text": [
      "\r",
      " 13%|█▎        | 32/251 [00:09<01:05,  3.33it/s]"
     ]
    },
    {
     "name": "stdout",
     "output_type": "stream",
     "text": [
      "3567.72889723 m 4119.18675367 m\n",
      "vehicle approximately shifted left with 0.1295 m\n",
      "[640 640 640 ...,  79  79  79]\n"
     ]
    },
    {
     "name": "stderr",
     "output_type": "stream",
     "text": [
      "\r",
      " 13%|█▎        | 33/251 [00:09<01:05,  3.34it/s]"
     ]
    },
    {
     "name": "stdout",
     "output_type": "stream",
     "text": [
      "3650.15647036 m 4598.42476774 m\n",
      "vehicle approximately shifted left with 0.185 m\n",
      "[640 640 640 ...,  79  79  79]\n"
     ]
    },
    {
     "name": "stderr",
     "output_type": "stream",
     "text": [
      "\r",
      " 14%|█▎        | 34/251 [00:10<01:04,  3.35it/s]"
     ]
    },
    {
     "name": "stdout",
     "output_type": "stream",
     "text": [
      "3918.86331788 m 3756.01975465 m\n",
      "vehicle approximately shifted left with 0.160333333333 m\n",
      "[640 640 640 ...,  79  79  79]\n"
     ]
    },
    {
     "name": "stderr",
     "output_type": "stream",
     "text": [
      "\r",
      " 14%|█▍        | 35/251 [00:10<01:04,  3.36it/s]"
     ]
    },
    {
     "name": "stdout",
     "output_type": "stream",
     "text": [
      "4174.07701282 m 3076.6926748 m\n",
      "vehicle approximately shifted left with 0.2035 m\n",
      "[640 640 640 ...,  79  79  79]\n"
     ]
    },
    {
     "name": "stderr",
     "output_type": "stream",
     "text": [
      "\r",
      " 14%|█▍        | 36/251 [00:10<01:03,  3.38it/s]"
     ]
    },
    {
     "name": "stdout",
     "output_type": "stream",
     "text": [
      "4564.26523069 m 3029.06641029 m\n",
      "vehicle approximately shifted left with 0.215833333333 m\n",
      "[640 640 640 ...,  79  79  79]\n"
     ]
    },
    {
     "name": "stderr",
     "output_type": "stream",
     "text": [
      "\r",
      " 15%|█▍        | 37/251 [00:11<01:03,  3.37it/s]"
     ]
    },
    {
     "name": "stdout",
     "output_type": "stream",
     "text": [
      "4693.22716817 m 3599.53541336 m\n",
      "vehicle approximately shifted left with 0.2405 m\n",
      "[640 640 640 ...,  79  79  79]\n"
     ]
    },
    {
     "name": "stderr",
     "output_type": "stream",
     "text": [
      "\r",
      " 15%|█▌        | 38/251 [00:11<01:02,  3.38it/s]"
     ]
    },
    {
     "name": "stdout",
     "output_type": "stream",
     "text": [
      "4999.0408282 m 3741.93230222 m\n",
      "vehicle approximately shifted left with 0.222 m\n",
      "[640 640 640 ...,  79  79  79]\n"
     ]
    },
    {
     "name": "stderr",
     "output_type": "stream",
     "text": [
      "\r",
      " 16%|█▌        | 39/251 [00:11<01:02,  3.40it/s]"
     ]
    },
    {
     "name": "stdout",
     "output_type": "stream",
     "text": [
      "4910.34313331 m 3572.4723372 m\n",
      "vehicle approximately shifted left with 0.2405 m\n",
      "[640 640 640 ...,  79  79  79]\n"
     ]
    },
    {
     "name": "stderr",
     "output_type": "stream",
     "text": [
      "\r",
      " 16%|█▌        | 40/251 [00:12<01:02,  3.39it/s]"
     ]
    },
    {
     "name": "stdout",
     "output_type": "stream",
     "text": [
      "4653.28792519 m 3552.09526146 m\n",
      "vehicle approximately shifted left with 0.228166666667 m\n",
      "[640 640 640 ...,  79  79  79]\n"
     ]
    },
    {
     "name": "stderr",
     "output_type": "stream",
     "text": [
      "\r",
      " 16%|█▋        | 41/251 [00:12<01:02,  3.39it/s]"
     ]
    },
    {
     "name": "stdout",
     "output_type": "stream",
     "text": [
      "4491.90475175 m 4212.06385453 m\n",
      "vehicle approximately shifted left with 0.234333333333 m\n",
      "[640 640 640 ...,  79  79  79]\n"
     ]
    },
    {
     "name": "stderr",
     "output_type": "stream",
     "text": [
      "\r",
      " 17%|█▋        | 42/251 [00:12<01:01,  3.40it/s]"
     ]
    },
    {
     "name": "stdout",
     "output_type": "stream",
     "text": [
      "4265.94499452 m 4263.37633071 m\n",
      "vehicle approximately shifted left with 0.117166666667 m\n",
      "[640 640 640 ...,  79  79  79]\n"
     ]
    },
    {
     "name": "stderr",
     "output_type": "stream",
     "text": [
      "\r",
      " 17%|█▋        | 43/251 [00:13<01:19,  2.62it/s]"
     ]
    },
    {
     "name": "stdout",
     "output_type": "stream",
     "text": [
      "3910.03407322 m 4305.27173829 m\n",
      "vehicle approximately shifted left with 0.117166666667 m\n",
      "[640 640 640 ...,  79  79  79]\n"
     ]
    },
    {
     "name": "stderr",
     "output_type": "stream",
     "text": [
      "\r",
      " 18%|█▊        | 44/251 [00:13<01:19,  2.62it/s]"
     ]
    },
    {
     "name": "stdout",
     "output_type": "stream",
     "text": [
      "3917.78643918 m 4093.05946037 m\n",
      "vehicle approximately shifted left with 0.209666666667 m\n",
      "[640 640 640 ...,  79  79  79]\n"
     ]
    },
    {
     "name": "stderr",
     "output_type": "stream",
     "text": [
      "\r",
      " 18%|█▊        | 45/251 [00:14<01:21,  2.53it/s]"
     ]
    },
    {
     "name": "stdout",
     "output_type": "stream",
     "text": [
      "3568.64193493 m 4165.78194418 m\n",
      "vehicle approximately shifted left with 0.234333333333 m\n",
      "[640 640 640 ...,  79  79  79]\n"
     ]
    },
    {
     "name": "stderr",
     "output_type": "stream",
     "text": [
      "\r",
      " 18%|█▊        | 46/251 [00:14<01:20,  2.54it/s]"
     ]
    },
    {
     "name": "stdout",
     "output_type": "stream",
     "text": [
      "3492.72988854 m 4026.69963822 m\n",
      "vehicle approximately shifted left with 0.2405 m\n",
      "[640 640 640 ...,  79  79  79]\n"
     ]
    },
    {
     "name": "stderr",
     "output_type": "stream",
     "text": [
      "\r",
      " 19%|█▊        | 47/251 [00:14<01:17,  2.64it/s]"
     ]
    },
    {
     "name": "stdout",
     "output_type": "stream",
     "text": [
      "3510.80045262 m 3669.48177276 m\n",
      "vehicle approximately shifted left with 0.228166666667 m\n",
      "[640 640 640 ...,  79  79  79]\n"
     ]
    },
    {
     "name": "stderr",
     "output_type": "stream",
     "text": [
      "\r",
      " 19%|█▉        | 48/251 [00:15<01:16,  2.65it/s]"
     ]
    },
    {
     "name": "stdout",
     "output_type": "stream",
     "text": [
      "3335.54033079 m 2786.06072484 m\n",
      "vehicle approximately shifted left with 0.228166666667 m\n",
      "[640 640 640 ...,  79  79  79]\n"
     ]
    },
    {
     "name": "stderr",
     "output_type": "stream",
     "text": [
      "\r",
      " 20%|█▉        | 49/251 [00:15<01:13,  2.74it/s]"
     ]
    },
    {
     "name": "stdout",
     "output_type": "stream",
     "text": [
      "2860.06898544 m 2781.11075179 m\n",
      "vehicle approximately shifted left with 0.222 m\n",
      "[640 640 640 ...,  79  79  79]\n"
     ]
    },
    {
     "name": "stderr",
     "output_type": "stream",
     "text": [
      "\r",
      " 20%|█▉        | 50/251 [00:15<01:14,  2.70it/s]"
     ]
    },
    {
     "name": "stdout",
     "output_type": "stream",
     "text": [
      "2835.44651718 m 2966.93381142 m\n",
      "vehicle approximately shifted left with 0.215833333333 m\n",
      "[640 640 640 ...,  79  79  79]\n"
     ]
    },
    {
     "name": "stderr",
     "output_type": "stream",
     "text": [
      "\r",
      " 20%|██        | 51/251 [00:16<01:12,  2.77it/s]"
     ]
    },
    {
     "name": "stdout",
     "output_type": "stream",
     "text": [
      "2624.51218088 m 2871.97945963 m\n",
      "vehicle approximately shifted left with 0.228166666667 m\n",
      "[640 640 640 ...,  79  79  79]\n"
     ]
    },
    {
     "name": "stderr",
     "output_type": "stream",
     "text": [
      "\r",
      " 21%|██        | 52/251 [00:16<01:13,  2.71it/s]"
     ]
    },
    {
     "name": "stdout",
     "output_type": "stream",
     "text": [
      "2833.09436834 m 2580.82876184 m\n",
      "vehicle approximately shifted left with 0.209666666667 m\n",
      "[640 640 640 ...,  79  79  79]\n"
     ]
    },
    {
     "name": "stderr",
     "output_type": "stream",
     "text": [
      "\r",
      " 21%|██        | 53/251 [00:16<01:10,  2.79it/s]"
     ]
    },
    {
     "name": "stdout",
     "output_type": "stream",
     "text": [
      "2927.58900419 m 2556.17556649 m\n",
      "vehicle approximately shifted left with 0.246666666667 m\n",
      "[640 640 640 ...,  79  79  79]\n"
     ]
    },
    {
     "name": "stderr",
     "output_type": "stream",
     "text": [
      "\r",
      " 22%|██▏       | 54/251 [00:17<01:11,  2.75it/s]"
     ]
    },
    {
     "name": "stdout",
     "output_type": "stream",
     "text": [
      "2923.16904651 m 3177.676235 m\n",
      "vehicle approximately shifted left with 0.234333333333 m\n",
      "[640 640 640 ...,  79  79  79]\n"
     ]
    },
    {
     "name": "stderr",
     "output_type": "stream",
     "text": [
      "\r",
      " 22%|██▏       | 55/251 [00:17<01:10,  2.79it/s]"
     ]
    },
    {
     "name": "stdout",
     "output_type": "stream",
     "text": [
      "2596.41492446 m 3505.01406565 m\n",
      "vehicle approximately shifted left with 0.135666666667 m\n",
      "[640 640 640 ...,  79  79  79]\n"
     ]
    },
    {
     "name": "stderr",
     "output_type": "stream",
     "text": [
      "\r",
      " 22%|██▏       | 56/251 [00:18<01:11,  2.73it/s]"
     ]
    },
    {
     "name": "stdout",
     "output_type": "stream",
     "text": [
      "2528.25687211 m 3585.95766461 m\n",
      "vehicle approximately shifted left with 0.154166666667 m\n",
      "[640 640 640 ...,  79  79  79]\n"
     ]
    },
    {
     "name": "stderr",
     "output_type": "stream",
     "text": [
      "\r",
      " 23%|██▎       | 57/251 [00:18<01:12,  2.66it/s]"
     ]
    },
    {
     "name": "stdout",
     "output_type": "stream",
     "text": [
      "2503.24279623 m 3320.99400469 m\n",
      "vehicle approximately shifted left with 0.141833333333 m\n",
      "[640 640 640 ...,  79  79  79]\n"
     ]
    },
    {
     "name": "stderr",
     "output_type": "stream",
     "text": [
      "\r",
      " 23%|██▎       | 58/251 [00:18<01:10,  2.74it/s]"
     ]
    },
    {
     "name": "stdout",
     "output_type": "stream",
     "text": [
      "2385.27075961 m 3243.0110395 m\n",
      "vehicle approximately shifted left with 0.141833333333 m\n",
      "[640 640 640 ...,  79  79  79]\n"
     ]
    },
    {
     "name": "stderr",
     "output_type": "stream",
     "text": [
      "\r",
      " 24%|██▎       | 59/251 [00:19<01:11,  2.68it/s]"
     ]
    },
    {
     "name": "stdout",
     "output_type": "stream",
     "text": [
      "2741.77689064 m 2571.33235339 m\n",
      "vehicle approximately shifted left with 0.172666666667 m\n",
      "[640 640 640 ...,  79  79  79]\n"
     ]
    },
    {
     "name": "stderr",
     "output_type": "stream",
     "text": [
      "\r",
      " 24%|██▍       | 60/251 [00:19<01:09,  2.75it/s]"
     ]
    },
    {
     "name": "stdout",
     "output_type": "stream",
     "text": [
      "2771.89762163 m 2643.91222656 m\n",
      "vehicle approximately shifted left with 0.123333333333 m\n",
      "[640 640 640 ...,  79  79  79]\n"
     ]
    },
    {
     "name": "stderr",
     "output_type": "stream",
     "text": [
      "\r",
      " 24%|██▍       | 61/251 [00:19<01:10,  2.69it/s]"
     ]
    },
    {
     "name": "stdout",
     "output_type": "stream",
     "text": [
      "2549.91180853 m 2934.54118809 m\n",
      "vehicle approximately shifted left with 0.154166666667 m\n",
      "[640 640 640 ...,  79  79  79]\n"
     ]
    },
    {
     "name": "stderr",
     "output_type": "stream",
     "text": [
      "\r",
      " 25%|██▍       | 62/251 [00:20<01:08,  2.77it/s]"
     ]
    },
    {
     "name": "stdout",
     "output_type": "stream",
     "text": [
      "2688.03033342 m 3346.88879989 m\n",
      "vehicle approximately shifted left with 0.154166666667 m\n",
      "[640 640 640 ...,  79  79  79]\n"
     ]
    },
    {
     "name": "stderr",
     "output_type": "stream",
     "text": [
      "\r",
      " 25%|██▌       | 63/251 [00:20<01:08,  2.73it/s]"
     ]
    },
    {
     "name": "stdout",
     "output_type": "stream",
     "text": [
      "2632.79891083 m 3315.98466232 m\n",
      "vehicle approximately shifted left with 0.160333333333 m\n",
      "[640 640 640 ...,  79  79  79]\n"
     ]
    },
    {
     "name": "stderr",
     "output_type": "stream",
     "text": [
      "\r",
      " 25%|██▌       | 64/251 [00:20<01:07,  2.79it/s]"
     ]
    },
    {
     "name": "stdout",
     "output_type": "stream",
     "text": [
      "2636.24187862 m 4006.07804565 m\n",
      "vehicle approximately shifted left with 0.172666666667 m\n",
      "[640 640 640 ...,  79  79  79]\n"
     ]
    },
    {
     "name": "stderr",
     "output_type": "stream",
     "text": [
      "\r",
      " 26%|██▌       | 65/251 [00:21<01:07,  2.76it/s]"
     ]
    },
    {
     "name": "stdout",
     "output_type": "stream",
     "text": [
      "2339.4551759 m 3693.72758537 m\n",
      "vehicle approximately shifted left with 0.172666666667 m\n",
      "[640 640 640 ...,  79  79  79]\n"
     ]
    },
    {
     "name": "stderr",
     "output_type": "stream",
     "text": [
      "\r",
      " 26%|██▋       | 66/251 [00:21<01:05,  2.83it/s]"
     ]
    },
    {
     "name": "stdout",
     "output_type": "stream",
     "text": [
      "2552.83593807 m 3347.49720325 m\n",
      "vehicle approximately shifted left with 0.228166666667 m\n",
      "[640 640 640 ...,  79  79  79]\n"
     ]
    },
    {
     "name": "stderr",
     "output_type": "stream",
     "text": [
      "\r",
      " 27%|██▋       | 67/251 [00:22<01:07,  2.74it/s]"
     ]
    },
    {
     "name": "stdout",
     "output_type": "stream",
     "text": [
      "2604.70534308 m 3217.78494231 m\n",
      "vehicle approximately shifted left with 0.178833333333 m\n",
      "[640 640 640 ...,  79  79  79]\n"
     ]
    },
    {
     "name": "stderr",
     "output_type": "stream",
     "text": [
      "\r",
      " 27%|██▋       | 68/251 [00:22<01:06,  2.77it/s]"
     ]
    },
    {
     "name": "stdout",
     "output_type": "stream",
     "text": [
      "2682.91303405 m 3113.85386041 m\n",
      "vehicle approximately shifted right 0.0123333333333 m\n",
      "[640 640 640 ...,  79  79  79]\n"
     ]
    },
    {
     "name": "stderr",
     "output_type": "stream",
     "text": [
      "\r",
      " 27%|██▋       | 69/251 [00:22<01:07,  2.70it/s]"
     ]
    },
    {
     "name": "stdout",
     "output_type": "stream",
     "text": [
      "2521.9295428 m 3032.91468756 m\n",
      "vehicle approximately shifted left with 0.00616666666667 m\n",
      "[640 640 640 ...,  79  79  79]\n"
     ]
    },
    {
     "name": "stderr",
     "output_type": "stream",
     "text": [
      "\r",
      " 28%|██▊       | 70/251 [00:23<01:05,  2.78it/s]"
     ]
    },
    {
     "name": "stdout",
     "output_type": "stream",
     "text": [
      "2553.09604397 m 3040.35561202 m\n",
      "vehicle approximately shifted left with 0.0246666666667 m\n",
      "[640 640 640 ...,  79  79  79]\n"
     ]
    },
    {
     "name": "stderr",
     "output_type": "stream",
     "text": [
      "\r",
      " 28%|██▊       | 71/251 [00:23<01:06,  2.71it/s]"
     ]
    },
    {
     "name": "stdout",
     "output_type": "stream",
     "text": [
      "2605.26818229 m 3771.29840801 m\n",
      "vehicle approximately shifted left with 0.0246666666667 m\n",
      "[640 640 640 ...,  79  79  79]\n"
     ]
    },
    {
     "name": "stderr",
     "output_type": "stream",
     "text": [
      "\r",
      " 29%|██▊       | 72/251 [00:23<01:05,  2.74it/s]"
     ]
    },
    {
     "name": "stdout",
     "output_type": "stream",
     "text": [
      "2533.12973421 m 3811.46908339 m\n",
      "vehicle approximately shifted left with 0.0431666666667 m\n",
      "[640 640 640 ...,  79  79  79]\n"
     ]
    },
    {
     "name": "stderr",
     "output_type": "stream",
     "text": [
      "\r",
      " 29%|██▉       | 73/251 [00:24<01:06,  2.66it/s]"
     ]
    },
    {
     "name": "stdout",
     "output_type": "stream",
     "text": [
      "2168.0630694 m 3542.99764603 m\n",
      "vehicle approximately shifted left with 0.0431666666667 m\n",
      "[640 640 640 ...,  79  79  79]\n"
     ]
    },
    {
     "name": "stderr",
     "output_type": "stream",
     "text": [
      "\r",
      " 29%|██▉       | 74/251 [00:24<01:04,  2.73it/s]"
     ]
    },
    {
     "name": "stdout",
     "output_type": "stream",
     "text": [
      "2362.5098958 m 2984.06319356 m\n",
      "vehicle approximately shifted left with 0.0863333333333 m\n",
      "[640 640 640 ...,  79  79  79]\n"
     ]
    },
    {
     "name": "stderr",
     "output_type": "stream",
     "text": [
      "\r",
      " 30%|██▉       | 75/251 [00:24<01:05,  2.69it/s]"
     ]
    },
    {
     "name": "stdout",
     "output_type": "stream",
     "text": [
      "2133.67817615 m 3012.91384818 m\n",
      "vehicle approximately shifted left with 0.104833333333 m\n",
      "[640 640 640 ...,  79  79  79]\n"
     ]
    },
    {
     "name": "stderr",
     "output_type": "stream",
     "text": [
      "\r",
      " 30%|███       | 76/251 [00:25<01:03,  2.76it/s]"
     ]
    },
    {
     "name": "stdout",
     "output_type": "stream",
     "text": [
      "2205.40375306 m 3205.5738987 m\n",
      "vehicle approximately shifted left with 0.074 m\n",
      "[640 640 640 ...,  79  79  79]\n"
     ]
    },
    {
     "name": "stderr",
     "output_type": "stream",
     "text": [
      "\r",
      " 31%|███       | 77/251 [00:25<01:03,  2.72it/s]"
     ]
    },
    {
     "name": "stdout",
     "output_type": "stream",
     "text": [
      "2093.73176891 m 2844.78055053 m\n",
      "vehicle approximately shifted left with 0.0986666666667 m\n",
      "[640 640 640 ...,  79  79  79]\n"
     ]
    },
    {
     "name": "stderr",
     "output_type": "stream",
     "text": [
      "\r",
      " 31%|███       | 78/251 [00:26<01:01,  2.79it/s]"
     ]
    },
    {
     "name": "stdout",
     "output_type": "stream",
     "text": [
      "1973.10880617 m 2679.28773775 m\n",
      "vehicle approximately shifted left with 0.0925 m\n",
      "[640 640 640 ...,  79  79  79]\n"
     ]
    },
    {
     "name": "stderr",
     "output_type": "stream",
     "text": [
      "\r",
      " 31%|███▏      | 79/251 [00:26<01:02,  2.74it/s]"
     ]
    },
    {
     "name": "stdout",
     "output_type": "stream",
     "text": [
      "1958.03232572 m 2948.17713165 m\n",
      "vehicle approximately shifted left with 0.074 m\n",
      "[640 640 640 ...,  79  79  79]\n"
     ]
    },
    {
     "name": "stderr",
     "output_type": "stream",
     "text": [
      "\r",
      " 32%|███▏      | 80/251 [00:26<01:00,  2.81it/s]"
     ]
    },
    {
     "name": "stdout",
     "output_type": "stream",
     "text": [
      "2050.26633357 m 2598.06819797 m\n",
      "vehicle approximately shifted left with 0.0925 m\n",
      "[640 640 640 ...,  79  79  79]\n"
     ]
    },
    {
     "name": "stderr",
     "output_type": "stream",
     "text": [
      "\r",
      " 32%|███▏      | 81/251 [00:27<01:01,  2.74it/s]"
     ]
    },
    {
     "name": "stdout",
     "output_type": "stream",
     "text": [
      "2154.85793466 m 3501.1656183 m\n",
      "vehicle approximately shifted right 0.00616666666667 m\n",
      "[640 640 640 ...,  79  79  79]\n"
     ]
    },
    {
     "name": "stderr",
     "output_type": "stream",
     "text": [
      "\r",
      " 33%|███▎      | 82/251 [00:27<01:00,  2.81it/s]"
     ]
    },
    {
     "name": "stdout",
     "output_type": "stream",
     "text": [
      "2216.60030013 m 3623.99276847 m\n",
      "vehicle approximately shifted left with 0.0801666666667 m\n",
      "[640 640 640 ...,  79  79  79]\n"
     ]
    },
    {
     "name": "stderr",
     "output_type": "stream",
     "text": [
      "\r",
      " 33%|███▎      | 83/251 [00:27<01:01,  2.74it/s]"
     ]
    },
    {
     "name": "stdout",
     "output_type": "stream",
     "text": [
      "2295.47721354 m 3406.57123892 m\n",
      "vehicle approximately shifted left with 0.074 m\n",
      "[640 640 640 ...,  79  79  79]\n"
     ]
    },
    {
     "name": "stderr",
     "output_type": "stream",
     "text": [
      "\r",
      " 33%|███▎      | 84/251 [00:28<00:59,  2.82it/s]"
     ]
    },
    {
     "name": "stdout",
     "output_type": "stream",
     "text": [
      "2315.38186195 m 3554.82027659 m\n",
      "vehicle approximately shifted left with 0.074 m\n",
      "[640 640 640 ...,  79  79  79]\n"
     ]
    },
    {
     "name": "stderr",
     "output_type": "stream",
     "text": [
      "\r",
      " 34%|███▍      | 85/251 [00:28<01:00,  2.74it/s]"
     ]
    },
    {
     "name": "stdout",
     "output_type": "stream",
     "text": [
      "2351.35663909 m 3010.61337521 m\n",
      "vehicle approximately shifted left with 0.0246666666667 m\n",
      "[640 640 640 ...,  79  79  79]\n"
     ]
    },
    {
     "name": "stderr",
     "output_type": "stream",
     "text": [
      "\r",
      " 34%|███▍      | 86/251 [00:28<00:58,  2.81it/s]"
     ]
    },
    {
     "name": "stdout",
     "output_type": "stream",
     "text": [
      "2601.06434338 m 2443.8846198 m\n",
      "vehicle approximately shifted left with 0.0801666666667 m\n",
      "[640 640 640 ...,  79  79  79]\n"
     ]
    },
    {
     "name": "stderr",
     "output_type": "stream",
     "text": [
      "\r",
      " 35%|███▍      | 87/251 [00:29<00:59,  2.75it/s]"
     ]
    },
    {
     "name": "stdout",
     "output_type": "stream",
     "text": [
      "3076.65609759 m 2502.00786389 m\n",
      "vehicle approximately shifted left with 0.0678333333333 m\n",
      "[640 640 640 ...,  79  79  79]\n"
     ]
    },
    {
     "name": "stderr",
     "output_type": "stream",
     "text": [
      "\r",
      " 35%|███▌      | 88/251 [00:29<00:58,  2.81it/s]"
     ]
    },
    {
     "name": "stdout",
     "output_type": "stream",
     "text": [
      "3260.74637915 m 2935.62345191 m\n",
      "vehicle approximately shifted left with 0.0801666666667 m\n",
      "[640 640 640 ...,  79  79  79]\n"
     ]
    },
    {
     "name": "stderr",
     "output_type": "stream",
     "text": [
      "\r",
      " 35%|███▌      | 89/251 [00:30<00:58,  2.77it/s]"
     ]
    },
    {
     "name": "stdout",
     "output_type": "stream",
     "text": [
      "3332.72732363 m 2529.70257878 m\n",
      "vehicle approximately shifted left with 0.0863333333333 m\n",
      "[640 640 640 ...,  79  79  79]\n"
     ]
    },
    {
     "name": "stderr",
     "output_type": "stream",
     "text": [
      "\r",
      " 36%|███▌      | 90/251 [00:30<00:57,  2.81it/s]"
     ]
    },
    {
     "name": "stdout",
     "output_type": "stream",
     "text": [
      "3437.31912281 m 3627.90285681 m\n",
      "vehicle approximately shifted left with 0.104833333333 m\n",
      "[640 640 640 ...,  79  79  79]\n"
     ]
    },
    {
     "name": "stderr",
     "output_type": "stream",
     "text": [
      "\r",
      " 36%|███▋      | 91/251 [00:30<00:58,  2.72it/s]"
     ]
    },
    {
     "name": "stdout",
     "output_type": "stream",
     "text": [
      "3231.72633293 m 3574.82650449 m\n",
      "vehicle approximately shifted left with 0.104833333333 m\n",
      "[640 640 640 ...,  79  79  79]\n"
     ]
    },
    {
     "name": "stderr",
     "output_type": "stream",
     "text": [
      "\r",
      " 37%|███▋      | 92/251 [00:31<00:57,  2.78it/s]"
     ]
    },
    {
     "name": "stdout",
     "output_type": "stream",
     "text": [
      "3164.84711701 m 3519.27848338 m\n",
      "vehicle approximately shifted left with 0.1295 m\n",
      "[640 640 640 ...,  79  79  79]\n"
     ]
    },
    {
     "name": "stderr",
     "output_type": "stream",
     "text": [
      "\r",
      " 37%|███▋      | 93/251 [00:31<00:57,  2.73it/s]"
     ]
    },
    {
     "name": "stdout",
     "output_type": "stream",
     "text": [
      "3088.90113868 m 3409.97868961 m\n",
      "vehicle approximately centered\n",
      "[640 640 640 ...,  79  79  79]\n"
     ]
    },
    {
     "name": "stderr",
     "output_type": "stream",
     "text": [
      "\r",
      " 37%|███▋      | 94/251 [00:31<00:56,  2.79it/s]"
     ]
    },
    {
     "name": "stdout",
     "output_type": "stream",
     "text": [
      "3415.83081538 m 3082.85324282 m\n",
      "vehicle approximately shifted left with 0.0431666666667 m\n",
      "[640 640 640 ...,  79  79  79]\n"
     ]
    },
    {
     "name": "stderr",
     "output_type": "stream",
     "text": [
      "\r",
      " 38%|███▊      | 95/251 [00:32<00:56,  2.74it/s]"
     ]
    },
    {
     "name": "stdout",
     "output_type": "stream",
     "text": [
      "3121.35838489 m 3060.58061502 m\n",
      "vehicle approximately shifted left with 0.0616666666667 m\n",
      "[640 640 640 ...,  79  79  79]\n"
     ]
    },
    {
     "name": "stderr",
     "output_type": "stream",
     "text": [
      "\r",
      " 38%|███▊      | 96/251 [00:32<00:55,  2.80it/s]"
     ]
    },
    {
     "name": "stdout",
     "output_type": "stream",
     "text": [
      "3165.65860517 m 3237.07708905 m\n",
      "vehicle approximately shifted left with 0.0123333333333 m\n",
      "[640 640 640 ...,  79  79  79]\n"
     ]
    },
    {
     "name": "stderr",
     "output_type": "stream",
     "text": [
      "\r",
      " 39%|███▊      | 97/251 [00:32<00:55,  2.77it/s]"
     ]
    },
    {
     "name": "stdout",
     "output_type": "stream",
     "text": [
      "3319.2729692 m 3220.16148921 m\n",
      "vehicle approximately shifted left with 0.0616666666667 m\n",
      "[640 640 640 ...,  79  79  79]\n"
     ]
    },
    {
     "name": "stderr",
     "output_type": "stream",
     "text": [
      "\r",
      " 39%|███▉      | 98/251 [00:33<00:54,  2.82it/s]"
     ]
    },
    {
     "name": "stdout",
     "output_type": "stream",
     "text": [
      "3207.18309855 m 3016.12690309 m\n",
      "vehicle approximately shifted left with 0.0616666666667 m\n",
      "[640 640 640 ...,  79  79  79]\n"
     ]
    },
    {
     "name": "stderr",
     "output_type": "stream",
     "text": [
      "\r",
      " 39%|███▉      | 99/251 [00:33<00:55,  2.76it/s]"
     ]
    },
    {
     "name": "stdout",
     "output_type": "stream",
     "text": [
      "3411.29437659 m 3506.30957807 m\n",
      "vehicle approximately shifted left with 0.0678333333333 m\n",
      "[640 640 640 ...,  79  79  79]\n"
     ]
    },
    {
     "name": "stderr",
     "output_type": "stream",
     "text": [
      "\r",
      " 40%|███▉      | 100/251 [00:33<00:53,  2.83it/s]"
     ]
    },
    {
     "name": "stdout",
     "output_type": "stream",
     "text": [
      "3392.54148755 m 3432.0505511 m\n",
      "vehicle approximately shifted left with 0.0678333333333 m\n",
      "[640 640 640 ...,  79  79  79]\n"
     ]
    },
    {
     "name": "stderr",
     "output_type": "stream",
     "text": [
      "\r",
      " 40%|████      | 101/251 [00:34<00:54,  2.75it/s]"
     ]
    },
    {
     "name": "stdout",
     "output_type": "stream",
     "text": [
      "3513.40582895 m 3386.93218027 m\n",
      "vehicle approximately shifted left with 0.0863333333333 m\n",
      "[640 640 640 ...,  79  79  79]\n"
     ]
    },
    {
     "name": "stderr",
     "output_type": "stream",
     "text": [
      "\r",
      " 41%|████      | 102/251 [00:34<00:52,  2.81it/s]"
     ]
    },
    {
     "name": "stdout",
     "output_type": "stream",
     "text": [
      "3678.57799657 m 3370.30711265 m\n",
      "vehicle approximately shifted left with 0.0986666666667 m\n",
      "[640 640 640 ...,  79  79  79]\n"
     ]
    },
    {
     "name": "stderr",
     "output_type": "stream",
     "text": [
      "\r",
      " 41%|████      | 103/251 [00:35<00:54,  2.74it/s]"
     ]
    },
    {
     "name": "stdout",
     "output_type": "stream",
     "text": [
      "3604.96003501 m 3816.94833658 m\n",
      "vehicle approximately shifted left with 0.0863333333333 m\n",
      "[640 640 640 ...,  79  79  79]\n"
     ]
    },
    {
     "name": "stderr",
     "output_type": "stream",
     "text": [
      "\r",
      " 41%|████▏     | 104/251 [00:35<00:59,  2.48it/s]"
     ]
    },
    {
     "name": "stdout",
     "output_type": "stream",
     "text": [
      "3650.3858919 m 4219.17163779 m\n",
      "vehicle approximately shifted left with 0.0925 m\n",
      "[640 640 640 ...,  79  79  79]\n"
     ]
    },
    {
     "name": "stderr",
     "output_type": "stream",
     "text": [
      "\r",
      " 42%|████▏     | 105/251 [00:35<00:58,  2.49it/s]"
     ]
    },
    {
     "name": "stdout",
     "output_type": "stream",
     "text": [
      "3347.65735708 m 3853.58151976 m\n",
      "vehicle approximately shifted left with 0.104833333333 m\n",
      "[640 640 640 ...,  79  79  79]\n"
     ]
    },
    {
     "name": "stderr",
     "output_type": "stream",
     "text": [
      "\r",
      " 42%|████▏     | 106/251 [00:36<00:55,  2.60it/s]"
     ]
    },
    {
     "name": "stdout",
     "output_type": "stream",
     "text": [
      "3203.90520896 m 3969.75945197 m\n",
      "vehicle approximately shifted left with 0.111 m\n",
      "[640 640 640 ...,  79  79  79]\n"
     ]
    },
    {
     "name": "stderr",
     "output_type": "stream",
     "text": [
      "\r",
      " 43%|████▎     | 107/251 [00:36<00:55,  2.60it/s]"
     ]
    },
    {
     "name": "stdout",
     "output_type": "stream",
     "text": [
      "2995.01381298 m 4427.99312505 m\n",
      "vehicle approximately shifted left with 0.123333333333 m\n",
      "[640 640 640 ...,  79  79  79]\n"
     ]
    },
    {
     "name": "stderr",
     "output_type": "stream",
     "text": [
      "\r",
      " 43%|████▎     | 108/251 [00:37<00:52,  2.72it/s]"
     ]
    },
    {
     "name": "stdout",
     "output_type": "stream",
     "text": [
      "3359.25068819 m 4705.35268432 m\n",
      "vehicle approximately shifted left with 0.141833333333 m\n",
      "[640 640 640 ...,  79  79  79]\n"
     ]
    },
    {
     "name": "stderr",
     "output_type": "stream",
     "text": [
      "\r",
      " 43%|████▎     | 109/251 [00:37<00:52,  2.69it/s]"
     ]
    },
    {
     "name": "stdout",
     "output_type": "stream",
     "text": [
      "3292.7843841 m 4898.80341804 m\n",
      "vehicle approximately shifted left with 0.0801666666667 m\n",
      "[640 640 640 ...,  79  79  79]\n"
     ]
    },
    {
     "name": "stderr",
     "output_type": "stream",
     "text": [
      "\r",
      " 44%|████▍     | 110/251 [00:37<00:50,  2.77it/s]"
     ]
    },
    {
     "name": "stdout",
     "output_type": "stream",
     "text": [
      "3186.76321206 m 3643.70381971 m\n",
      "vehicle approximately shifted left with 0.148 m\n",
      "[640 640 640 ...,  79  79  79]\n"
     ]
    },
    {
     "name": "stderr",
     "output_type": "stream",
     "text": [
      "\r",
      " 44%|████▍     | 111/251 [00:38<00:51,  2.73it/s]"
     ]
    },
    {
     "name": "stdout",
     "output_type": "stream",
     "text": [
      "3319.91791747 m 3188.68428842 m\n",
      "vehicle approximately shifted left with 0.154166666667 m\n",
      "[640 640 640 ...,  79  79  79]\n"
     ]
    },
    {
     "name": "stderr",
     "output_type": "stream",
     "text": [
      "\r",
      " 45%|████▍     | 112/251 [00:38<00:50,  2.78it/s]"
     ]
    },
    {
     "name": "stdout",
     "output_type": "stream",
     "text": [
      "3022.69908215 m 2993.88928524 m\n",
      "vehicle approximately shifted left with 0.1665 m\n",
      "[640 640 640 ...,  79  79  79]\n"
     ]
    },
    {
     "name": "stderr",
     "output_type": "stream",
     "text": [
      "\r",
      " 45%|████▌     | 113/251 [00:38<00:50,  2.72it/s]"
     ]
    },
    {
     "name": "stdout",
     "output_type": "stream",
     "text": [
      "3492.09572625 m 3960.77506483 m\n",
      "vehicle approximately shifted left with 0.1665 m\n",
      "[640 640 640 ...,  79  79  79]\n"
     ]
    },
    {
     "name": "stderr",
     "output_type": "stream",
     "text": [
      "\r",
      " 45%|████▌     | 114/251 [00:39<00:48,  2.80it/s]"
     ]
    },
    {
     "name": "stdout",
     "output_type": "stream",
     "text": [
      "3529.85824663 m 3766.62328075 m\n",
      "vehicle approximately shifted left with 0.154166666667 m\n",
      "[640 640 640 ...,  79  79  79]\n"
     ]
    },
    {
     "name": "stderr",
     "output_type": "stream",
     "text": [
      "\r",
      " 46%|████▌     | 115/251 [00:39<00:49,  2.76it/s]"
     ]
    },
    {
     "name": "stdout",
     "output_type": "stream",
     "text": [
      "3843.19466688 m 3743.97401954 m\n",
      "vehicle approximately shifted left with 0.2035 m\n",
      "[640 640 640 ...,  79  79  79]\n"
     ]
    },
    {
     "name": "stderr",
     "output_type": "stream",
     "text": [
      "\r",
      " 46%|████▌     | 116/251 [00:39<00:47,  2.83it/s]"
     ]
    },
    {
     "name": "stdout",
     "output_type": "stream",
     "text": [
      "3861.01612929 m 4215.75192962 m\n",
      "vehicle approximately shifted left with 0.172666666667 m\n",
      "[640 640 640 ...,  79  79  79]\n"
     ]
    },
    {
     "name": "stderr",
     "output_type": "stream",
     "text": [
      "\r",
      " 47%|████▋     | 117/251 [00:40<00:48,  2.76it/s]"
     ]
    },
    {
     "name": "stdout",
     "output_type": "stream",
     "text": [
      "3833.71059594 m 4297.26572586 m\n",
      "vehicle approximately shifted left with 0.178833333333 m\n",
      "[640 640 640 ...,  79  79  79]\n"
     ]
    },
    {
     "name": "stderr",
     "output_type": "stream",
     "text": [
      "\r",
      " 47%|████▋     | 118/251 [00:40<00:46,  2.84it/s]"
     ]
    },
    {
     "name": "stdout",
     "output_type": "stream",
     "text": [
      "3940.83838986 m 4718.42132576 m\n",
      "vehicle approximately shifted left with 0.141833333333 m\n",
      "[640 640 640 ...,  79  79  79]\n"
     ]
    },
    {
     "name": "stderr",
     "output_type": "stream",
     "text": [
      "\r",
      " 47%|████▋     | 119/251 [00:40<00:47,  2.76it/s]"
     ]
    },
    {
     "name": "stdout",
     "output_type": "stream",
     "text": [
      "3798.42386173 m 4571.82686673 m\n",
      "vehicle approximately shifted left with 0.148 m\n",
      "[640 640 640 ...,  79  79  79]\n"
     ]
    },
    {
     "name": "stderr",
     "output_type": "stream",
     "text": [
      "\r",
      " 48%|████▊     | 120/251 [00:41<00:47,  2.79it/s]"
     ]
    },
    {
     "name": "stdout",
     "output_type": "stream",
     "text": [
      "4402.23351987 m 4005.82680669 m\n",
      "vehicle approximately shifted left with 0.160333333333 m\n",
      "[640 640 640 ...,  79  79  79]\n"
     ]
    },
    {
     "name": "stderr",
     "output_type": "stream",
     "text": [
      "\r",
      " 48%|████▊     | 121/251 [00:41<00:47,  2.73it/s]"
     ]
    },
    {
     "name": "stdout",
     "output_type": "stream",
     "text": [
      "3946.11249301 m 3794.91820653 m\n",
      "vehicle approximately shifted left with 0.178833333333 m\n",
      "[640 640 640 ...,  79  79  79]\n"
     ]
    },
    {
     "name": "stderr",
     "output_type": "stream",
     "text": [
      "\r",
      " 49%|████▊     | 122/251 [00:42<00:46,  2.79it/s]"
     ]
    },
    {
     "name": "stdout",
     "output_type": "stream",
     "text": [
      "4088.42939042 m 3792.39608755 m\n",
      "vehicle approximately shifted left with 0.135666666667 m\n",
      "[640 640 640 ...,  79  79  79]\n"
     ]
    },
    {
     "name": "stderr",
     "output_type": "stream",
     "text": [
      "\r",
      " 49%|████▉     | 123/251 [00:42<00:46,  2.74it/s]"
     ]
    },
    {
     "name": "stdout",
     "output_type": "stream",
     "text": [
      "4440.63774267 m 3780.10543275 m\n",
      "vehicle approximately shifted left with 0.178833333333 m\n",
      "[640 640 640 ...,  79  79  79]\n"
     ]
    },
    {
     "name": "stderr",
     "output_type": "stream",
     "text": [
      "\r",
      " 49%|████▉     | 124/251 [00:42<00:45,  2.81it/s]"
     ]
    },
    {
     "name": "stdout",
     "output_type": "stream",
     "text": [
      "4078.86649773 m 4277.74013967 m\n",
      "vehicle approximately shifted left with 0.191166666667 m\n",
      "[640 640 640 ...,  79  79  79]\n"
     ]
    },
    {
     "name": "stderr",
     "output_type": "stream",
     "text": [
      "\r",
      " 50%|████▉     | 125/251 [00:43<00:46,  2.73it/s]"
     ]
    },
    {
     "name": "stdout",
     "output_type": "stream",
     "text": [
      "4249.14040357 m 4460.64421006 m\n",
      "vehicle approximately shifted left with 0.2035 m\n",
      "[640 640 640 ...,  79  79  79]\n"
     ]
    },
    {
     "name": "stderr",
     "output_type": "stream",
     "text": [
      "\r",
      " 50%|█████     | 126/251 [00:43<00:44,  2.81it/s]"
     ]
    },
    {
     "name": "stdout",
     "output_type": "stream",
     "text": [
      "3832.70715561 m 3529.84883665 m\n",
      "vehicle approximately shifted left with 0.191166666667 m\n",
      "[640 640 640 ...,  79  79  79]\n"
     ]
    },
    {
     "name": "stderr",
     "output_type": "stream",
     "text": [
      "\r",
      " 51%|█████     | 127/251 [00:43<00:44,  2.77it/s]"
     ]
    },
    {
     "name": "stdout",
     "output_type": "stream",
     "text": [
      "3827.03353146 m 3635.5474075 m\n",
      "vehicle approximately shifted left with 0.2035 m\n",
      "[640 640 640 ...,  79  79  79]\n"
     ]
    },
    {
     "name": "stderr",
     "output_type": "stream",
     "text": [
      "\r",
      " 51%|█████     | 128/251 [00:44<00:43,  2.84it/s]"
     ]
    },
    {
     "name": "stdout",
     "output_type": "stream",
     "text": [
      "3760.92613353 m 3801.56578221 m\n",
      "vehicle approximately shifted left with 0.228166666667 m\n",
      "[640 640 640 ...,  79  79  79]\n"
     ]
    },
    {
     "name": "stderr",
     "output_type": "stream",
     "text": [
      "\r",
      " 51%|█████▏    | 129/251 [00:44<00:43,  2.78it/s]"
     ]
    },
    {
     "name": "stdout",
     "output_type": "stream",
     "text": [
      "3878.5227569 m 3979.27930767 m\n",
      "vehicle approximately shifted left with 0.148 m\n",
      "[640 640 640 ...,  79  79  79]\n"
     ]
    },
    {
     "name": "stderr",
     "output_type": "stream",
     "text": [
      "\r",
      " 52%|█████▏    | 130/251 [00:44<00:42,  2.83it/s]"
     ]
    },
    {
     "name": "stdout",
     "output_type": "stream",
     "text": [
      "3396.19941974 m 3658.20803705 m\n",
      "vehicle approximately shifted left with 0.160333333333 m\n",
      "[640 640 640 ...,  79  79  79]\n"
     ]
    },
    {
     "name": "stderr",
     "output_type": "stream",
     "text": [
      "\r",
      " 52%|█████▏    | 131/251 [00:45<00:43,  2.77it/s]"
     ]
    },
    {
     "name": "stdout",
     "output_type": "stream",
     "text": [
      "3446.16272283 m 3421.83962443 m\n",
      "vehicle approximately shifted left with 0.154166666667 m\n",
      "[640 640 640 ...,  79  79  79]\n"
     ]
    },
    {
     "name": "stderr",
     "output_type": "stream",
     "text": [
      "\r",
      " 53%|█████▎    | 132/251 [00:45<00:41,  2.84it/s]"
     ]
    },
    {
     "name": "stdout",
     "output_type": "stream",
     "text": [
      "3375.82396754 m 3279.69361847 m\n",
      "vehicle approximately shifted left with 0.123333333333 m\n",
      "[640 640 640 ...,  79  79  79]\n"
     ]
    },
    {
     "name": "stderr",
     "output_type": "stream",
     "text": [
      "\r",
      " 53%|█████▎    | 133/251 [00:46<00:42,  2.76it/s]"
     ]
    },
    {
     "name": "stdout",
     "output_type": "stream",
     "text": [
      "3234.35424438 m 3172.0795371 m\n",
      "vehicle approximately shifted left with 0.215833333333 m\n",
      "[640 640 640 ...,  79  79  79]\n"
     ]
    },
    {
     "name": "stderr",
     "output_type": "stream",
     "text": [
      "\r",
      " 53%|█████▎    | 134/251 [00:46<00:42,  2.76it/s]"
     ]
    },
    {
     "name": "stdout",
     "output_type": "stream",
     "text": [
      "3057.78147645 m 2909.25867942 m\n",
      "vehicle approximately shifted left with 0.215833333333 m\n",
      "[640 640 640 ...,  79  79  79]\n"
     ]
    },
    {
     "name": "stderr",
     "output_type": "stream",
     "text": [
      "\r",
      " 54%|█████▍    | 135/251 [00:46<00:42,  2.73it/s]"
     ]
    },
    {
     "name": "stdout",
     "output_type": "stream",
     "text": [
      "3023.40229099 m 2999.57730218 m\n",
      "vehicle approximately shifted left with 0.222 m\n",
      "[640 640 640 ...,  79  79  79]\n"
     ]
    },
    {
     "name": "stderr",
     "output_type": "stream",
     "text": [
      "\r",
      " 54%|█████▍    | 136/251 [00:47<00:41,  2.75it/s]"
     ]
    },
    {
     "name": "stdout",
     "output_type": "stream",
     "text": [
      "2803.76440558 m 2785.08145501 m\n",
      "vehicle approximately shifted left with 0.234333333333 m\n",
      "[640 640 640 ...,  79  79  79]\n"
     ]
    },
    {
     "name": "stderr",
     "output_type": "stream",
     "text": [
      "\r",
      " 55%|█████▍    | 137/251 [00:47<00:42,  2.71it/s]"
     ]
    },
    {
     "name": "stdout",
     "output_type": "stream",
     "text": [
      "2767.91468642 m 2429.38575576 m\n",
      "vehicle approximately shifted left with 0.234333333333 m\n",
      "[640 640 640 ...,  79  79  79]\n"
     ]
    },
    {
     "name": "stderr",
     "output_type": "stream",
     "text": [
      "\r",
      " 55%|█████▍    | 138/251 [00:47<00:40,  2.80it/s]"
     ]
    },
    {
     "name": "stdout",
     "output_type": "stream",
     "text": [
      "2628.50103604 m 2415.51300785 m\n",
      "vehicle approximately shifted left with 0.265166666667 m\n",
      "[640 640 640 ...,  79  79  79]\n"
     ]
    },
    {
     "name": "stderr",
     "output_type": "stream",
     "text": [
      "\r",
      " 55%|█████▌    | 139/251 [00:48<00:40,  2.74it/s]"
     ]
    },
    {
     "name": "stdout",
     "output_type": "stream",
     "text": [
      "2501.83134225 m 2094.89795905 m\n",
      "vehicle approximately shifted left with 0.283666666667 m\n",
      "[640 640 640 ...,  79  79  79]\n"
     ]
    },
    {
     "name": "stderr",
     "output_type": "stream",
     "text": [
      "\r",
      " 56%|█████▌    | 140/251 [00:48<00:39,  2.81it/s]"
     ]
    },
    {
     "name": "stdout",
     "output_type": "stream",
     "text": [
      "2266.51902559 m 2199.90771154 m\n",
      "vehicle approximately shifted left with 0.289833333333 m\n",
      "[640 640 640 ...,  79  79  79]\n"
     ]
    },
    {
     "name": "stderr",
     "output_type": "stream",
     "text": [
      "\r",
      " 56%|█████▌    | 141/251 [00:48<00:39,  2.76it/s]"
     ]
    },
    {
     "name": "stdout",
     "output_type": "stream",
     "text": [
      "2324.11933922 m 2247.96367374 m\n",
      "vehicle approximately shifted left with 0.289833333333 m\n",
      "[640 640 640 ...,  79  79  79]\n"
     ]
    },
    {
     "name": "stderr",
     "output_type": "stream",
     "text": [
      "\r",
      " 57%|█████▋    | 142/251 [00:49<00:38,  2.81it/s]"
     ]
    },
    {
     "name": "stdout",
     "output_type": "stream",
     "text": [
      "2335.67164227 m 2553.7773805 m\n",
      "vehicle approximately shifted left with 0.2775 m\n",
      "[640 640 640 ...,  79  79  79]\n"
     ]
    },
    {
     "name": "stderr",
     "output_type": "stream",
     "text": [
      "\r",
      " 57%|█████▋    | 143/251 [00:49<00:38,  2.77it/s]"
     ]
    },
    {
     "name": "stdout",
     "output_type": "stream",
     "text": [
      "2463.59688918 m 3302.92488513 m\n",
      "vehicle approximately shifted left with 0.222 m\n",
      "[640 640 640 ...,  79  79  79]\n"
     ]
    },
    {
     "name": "stderr",
     "output_type": "stream",
     "text": [
      "\r",
      " 57%|█████▋    | 144/251 [00:50<00:39,  2.72it/s]"
     ]
    },
    {
     "name": "stdout",
     "output_type": "stream",
     "text": [
      "2325.67954751 m 3006.03977024 m\n",
      "vehicle approximately shifted left with 0.111 m\n",
      "[640 640 640 ...,  79  79  79]\n"
     ]
    },
    {
     "name": "stderr",
     "output_type": "stream",
     "text": [
      "\r",
      " 58%|█████▊    | 145/251 [00:50<00:38,  2.78it/s]"
     ]
    },
    {
     "name": "stdout",
     "output_type": "stream",
     "text": [
      "2249.41444729 m 2890.41766401 m\n",
      "vehicle approximately shifted left with 0.234333333333 m\n",
      "[640 640 640 ...,  79  79  79]\n"
     ]
    },
    {
     "name": "stderr",
     "output_type": "stream",
     "text": [
      "\r",
      " 58%|█████▊    | 146/251 [00:50<00:38,  2.74it/s]"
     ]
    },
    {
     "name": "stdout",
     "output_type": "stream",
     "text": [
      "2394.89237564 m 2535.65491766 m\n",
      "vehicle approximately shifted left with 0.2035 m\n",
      "[640 640 640 ...,  79  79  79]\n"
     ]
    },
    {
     "name": "stderr",
     "output_type": "stream",
     "text": [
      "\r",
      " 59%|█████▊    | 147/251 [00:51<00:36,  2.81it/s]"
     ]
    },
    {
     "name": "stdout",
     "output_type": "stream",
     "text": [
      "2444.0169624 m 2306.89402539 m\n",
      "vehicle approximately shifted left with 0.185 m\n",
      "[640 640 640 ...,  79  79  79]\n"
     ]
    },
    {
     "name": "stderr",
     "output_type": "stream",
     "text": [
      "\r",
      " 59%|█████▉    | 148/251 [00:51<00:37,  2.74it/s]"
     ]
    },
    {
     "name": "stdout",
     "output_type": "stream",
     "text": [
      "2835.2029647 m 3032.72212783 m\n",
      "vehicle approximately shifted left with 0.178833333333 m\n",
      "[640 640 640 ...,  79  79  79]\n"
     ]
    },
    {
     "name": "stderr",
     "output_type": "stream",
     "text": [
      "\r",
      " 59%|█████▉    | 149/251 [00:51<00:36,  2.79it/s]"
     ]
    },
    {
     "name": "stdout",
     "output_type": "stream",
     "text": [
      "2779.16864651 m 3016.82324816 m\n",
      "vehicle approximately shifted left with 0.185 m\n",
      "[640 640 640 ...,  79  79  79]\n"
     ]
    },
    {
     "name": "stderr",
     "output_type": "stream",
     "text": [
      "\r",
      " 60%|█████▉    | 150/251 [00:52<00:37,  2.73it/s]"
     ]
    },
    {
     "name": "stdout",
     "output_type": "stream",
     "text": [
      "2593.18370258 m 2745.40704302 m\n",
      "vehicle approximately shifted left with 0.215833333333 m\n",
      "[640 640 640 ...,  79  79  79]\n"
     ]
    },
    {
     "name": "stderr",
     "output_type": "stream",
     "text": [
      "\r",
      " 60%|██████    | 151/251 [00:52<00:35,  2.78it/s]"
     ]
    },
    {
     "name": "stdout",
     "output_type": "stream",
     "text": [
      "2740.21296762 m 2958.51408564 m\n",
      "vehicle approximately shifted left with 0.2035 m\n",
      "[640 640 640 ...,  79  79  79]\n"
     ]
    },
    {
     "name": "stderr",
     "output_type": "stream",
     "text": [
      "\r",
      " 61%|██████    | 152/251 [00:52<00:36,  2.72it/s]"
     ]
    },
    {
     "name": "stdout",
     "output_type": "stream",
     "text": [
      "2569.98675183 m 2643.19647781 m\n",
      "vehicle approximately shifted left with 0.228166666667 m\n",
      "[640 640 640 ...,  79  79  79]\n"
     ]
    },
    {
     "name": "stderr",
     "output_type": "stream",
     "text": [
      "\r",
      " 61%|██████    | 153/251 [00:53<00:35,  2.80it/s]"
     ]
    },
    {
     "name": "stdout",
     "output_type": "stream",
     "text": [
      "2785.44932839 m 3344.24431268 m\n",
      "vehicle approximately shifted left with 0.246666666667 m\n",
      "[640 640 640 ...,  79  79  79]\n"
     ]
    },
    {
     "name": "stderr",
     "output_type": "stream",
     "text": [
      "\r",
      " 61%|██████▏   | 154/251 [00:53<00:35,  2.72it/s]"
     ]
    },
    {
     "name": "stdout",
     "output_type": "stream",
     "text": [
      "2564.55001684 m 3496.85927417 m\n",
      "vehicle approximately shifted left with 0.154166666667 m\n",
      "[640 640 640 ...,  79  79  79]\n"
     ]
    },
    {
     "name": "stderr",
     "output_type": "stream",
     "text": [
      "\r",
      " 62%|██████▏   | 155/251 [00:53<00:34,  2.80it/s]"
     ]
    },
    {
     "name": "stdout",
     "output_type": "stream",
     "text": [
      "2651.45425041 m 3265.45684805 m\n",
      "vehicle approximately shifted left with 0.172666666667 m\n",
      "[640 640 640 ...,  79  79  79]\n"
     ]
    },
    {
     "name": "stderr",
     "output_type": "stream",
     "text": [
      "\r",
      " 62%|██████▏   | 156/251 [00:54<00:34,  2.76it/s]"
     ]
    },
    {
     "name": "stdout",
     "output_type": "stream",
     "text": [
      "2687.95375481 m 3198.72323067 m\n",
      "vehicle approximately shifted left with 0.1665 m\n",
      "[640 640 640 ...,  79  79  79]\n"
     ]
    },
    {
     "name": "stderr",
     "output_type": "stream",
     "text": [
      "\r",
      " 63%|██████▎   | 157/251 [00:54<00:33,  2.83it/s]"
     ]
    },
    {
     "name": "stdout",
     "output_type": "stream",
     "text": [
      "2832.16565921 m 3085.79013605 m\n",
      "vehicle approximately shifted left with 0.178833333333 m\n",
      "[640 640 640 ...,  79  79  79]\n"
     ]
    },
    {
     "name": "stderr",
     "output_type": "stream",
     "text": [
      "\r",
      " 63%|██████▎   | 158/251 [00:55<00:33,  2.77it/s]"
     ]
    },
    {
     "name": "stdout",
     "output_type": "stream",
     "text": [
      "3093.46338531 m 2884.720673 m\n",
      "vehicle approximately shifted left with 0.1665 m\n",
      "[640 640 640 ...,  79  79  79]\n"
     ]
    },
    {
     "name": "stderr",
     "output_type": "stream",
     "text": [
      "\r",
      " 63%|██████▎   | 159/251 [00:55<00:32,  2.82it/s]"
     ]
    },
    {
     "name": "stdout",
     "output_type": "stream",
     "text": [
      "3059.54736214 m 2838.78121954 m\n",
      "vehicle approximately shifted left with 0.1665 m\n",
      "[640 640 640 ...,  79  79  79]\n"
     ]
    },
    {
     "name": "stderr",
     "output_type": "stream",
     "text": [
      "\r",
      " 64%|██████▎   | 160/251 [00:55<00:32,  2.77it/s]"
     ]
    },
    {
     "name": "stdout",
     "output_type": "stream",
     "text": [
      "3377.49368379 m 4208.01131711 m\n",
      "vehicle approximately shifted left with 0.111 m\n",
      "[640 640 640 ...,  79  79  79]\n"
     ]
    },
    {
     "name": "stderr",
     "output_type": "stream",
     "text": [
      "\r",
      " 64%|██████▍   | 161/251 [00:56<00:32,  2.79it/s]"
     ]
    },
    {
     "name": "stdout",
     "output_type": "stream",
     "text": [
      "3147.2299597 m 3205.58971344 m\n",
      "vehicle approximately shifted left with 0.1295 m\n",
      "[640 640 640 ...,  79  79  79]\n"
     ]
    },
    {
     "name": "stderr",
     "output_type": "stream",
     "text": [
      "\r",
      " 65%|██████▍   | 162/251 [00:56<00:32,  2.71it/s]"
     ]
    },
    {
     "name": "stdout",
     "output_type": "stream",
     "text": [
      "2963.73734789 m 3417.46301084 m\n",
      "vehicle approximately shifted left with 0.135666666667 m\n",
      "[640 640 640 ...,  79  79  79]\n"
     ]
    },
    {
     "name": "stderr",
     "output_type": "stream",
     "text": [
      "\r",
      " 65%|██████▍   | 163/251 [00:56<00:31,  2.79it/s]"
     ]
    },
    {
     "name": "stdout",
     "output_type": "stream",
     "text": [
      "3015.0860762 m 2749.26404935 m\n",
      "vehicle approximately shifted left with 0.191166666667 m\n",
      "[640 640 640 ...,  79  79  79]\n"
     ]
    },
    {
     "name": "stderr",
     "output_type": "stream",
     "text": [
      "\r",
      " 65%|██████▌   | 164/251 [00:57<00:31,  2.78it/s]"
     ]
    },
    {
     "name": "stdout",
     "output_type": "stream",
     "text": [
      "2875.66743141 m 3093.39248849 m\n",
      "vehicle approximately shifted left with 0.191166666667 m\n",
      "[640 640 640 ...,  79  79  79]\n"
     ]
    },
    {
     "name": "stderr",
     "output_type": "stream",
     "text": [
      "\r",
      " 66%|██████▌   | 165/251 [00:57<00:34,  2.51it/s]"
     ]
    },
    {
     "name": "stdout",
     "output_type": "stream",
     "text": [
      "3313.10858319 m 4467.52021406 m\n",
      "vehicle approximately shifted left with 0.191166666667 m\n",
      "[640 640 640 ...,  79  79  79]\n"
     ]
    },
    {
     "name": "stderr",
     "output_type": "stream",
     "text": [
      "\r",
      " 66%|██████▌   | 166/251 [00:58<00:32,  2.64it/s]"
     ]
    },
    {
     "name": "stdout",
     "output_type": "stream",
     "text": [
      "3236.04031795 m 4602.03076851 m\n",
      "vehicle approximately shifted left with 0.185 m\n",
      "[640 640 640 ...,  79  79  79]\n"
     ]
    },
    {
     "name": "stderr",
     "output_type": "stream",
     "text": [
      "\r",
      " 67%|██████▋   | 167/251 [00:58<00:31,  2.64it/s]"
     ]
    },
    {
     "name": "stdout",
     "output_type": "stream",
     "text": [
      "3605.5864836 m 5469.41363878 m\n",
      "vehicle approximately centered\n",
      "[640 640 640 ...,  79  79  79]\n"
     ]
    },
    {
     "name": "stderr",
     "output_type": "stream",
     "text": [
      "\r",
      " 67%|██████▋   | 168/251 [00:58<00:30,  2.74it/s]"
     ]
    },
    {
     "name": "stdout",
     "output_type": "stream",
     "text": [
      "3004.67653376 m 5203.24203643 m\n",
      "vehicle approximately shifted left with 0.0431666666667 m\n",
      "[640 640 640 ...,  79  79  79]\n"
     ]
    },
    {
     "name": "stderr",
     "output_type": "stream",
     "text": [
      "\r",
      " 67%|██████▋   | 169/251 [00:59<00:30,  2.72it/s]"
     ]
    },
    {
     "name": "stdout",
     "output_type": "stream",
     "text": [
      "2864.91738924 m 5103.59238527 m\n",
      "vehicle approximately shifted left with 0.0431666666667 m\n",
      "[640 640 640 ...,  79  79  79]\n"
     ]
    },
    {
     "name": "stderr",
     "output_type": "stream",
     "text": [
      "\r",
      " 68%|██████▊   | 170/251 [00:59<00:28,  2.80it/s]"
     ]
    },
    {
     "name": "stdout",
     "output_type": "stream",
     "text": [
      "2645.58958039 m 5299.55016095 m\n",
      "vehicle approximately shifted left with 0.074 m\n",
      "[640 640 640 ...,  79  79  79]\n"
     ]
    },
    {
     "name": "stderr",
     "output_type": "stream",
     "text": [
      "\r",
      " 68%|██████▊   | 171/251 [00:59<00:29,  2.76it/s]"
     ]
    },
    {
     "name": "stdout",
     "output_type": "stream",
     "text": [
      "2738.58584417 m 6261.58526116 m\n",
      "vehicle approximately shifted left with 0.0863333333333 m\n",
      "[640 640 640 ...,  79  79  79]\n"
     ]
    },
    {
     "name": "stderr",
     "output_type": "stream",
     "text": [
      "\r",
      " 69%|██████▊   | 172/251 [01:00<00:28,  2.81it/s]"
     ]
    },
    {
     "name": "stdout",
     "output_type": "stream",
     "text": [
      "2983.36530874 m 6702.00254561 m\n",
      "vehicle approximately shifted left with 0.074 m\n",
      "[640 640 640 ...,  79  79  79]\n"
     ]
    },
    {
     "name": "stderr",
     "output_type": "stream",
     "text": [
      "\r",
      " 69%|██████▉   | 173/251 [01:00<00:28,  2.75it/s]"
     ]
    },
    {
     "name": "stdout",
     "output_type": "stream",
     "text": [
      "3087.57746985 m 7267.2502171 m\n",
      "vehicle approximately shifted left with 0.0863333333333 m\n",
      "[640 640 640 ...,  79  79  79]\n"
     ]
    },
    {
     "name": "stderr",
     "output_type": "stream",
     "text": [
      "\r",
      " 69%|██████▉   | 174/251 [01:00<00:27,  2.80it/s]"
     ]
    },
    {
     "name": "stdout",
     "output_type": "stream",
     "text": [
      "3560.81022478 m 6471.79600912 m\n",
      "vehicle approximately shifted left with 0.074 m\n",
      "[640 640 640 ...,  79  79  79]\n"
     ]
    },
    {
     "name": "stderr",
     "output_type": "stream",
     "text": [
      "\r",
      " 70%|██████▉   | 175/251 [01:01<00:27,  2.75it/s]"
     ]
    },
    {
     "name": "stdout",
     "output_type": "stream",
     "text": [
      "3811.70134505 m 5780.45373808 m\n",
      "vehicle approximately shifted left with 0.0801666666667 m\n",
      "[640 640 640 ...,  79  79  79]\n"
     ]
    },
    {
     "name": "stderr",
     "output_type": "stream",
     "text": [
      "\r",
      " 70%|███████   | 176/251 [01:01<00:27,  2.76it/s]"
     ]
    },
    {
     "name": "stdout",
     "output_type": "stream",
     "text": [
      "4122.12863635 m 6199.65636982 m\n",
      "vehicle approximately shifted left with 0.0801666666667 m\n",
      "[640 640 640 ...,  79  79  79]\n"
     ]
    },
    {
     "name": "stderr",
     "output_type": "stream",
     "text": [
      "\r",
      " 71%|███████   | 177/251 [01:02<00:27,  2.70it/s]"
     ]
    },
    {
     "name": "stdout",
     "output_type": "stream",
     "text": [
      "3736.69395172 m 5389.50867542 m\n",
      "vehicle approximately shifted left with 0.141833333333 m\n",
      "[640 640 640 ...,  79  79  79]\n"
     ]
    },
    {
     "name": "stderr",
     "output_type": "stream",
     "text": [
      "\r",
      " 71%|███████   | 178/251 [01:02<00:26,  2.76it/s]"
     ]
    },
    {
     "name": "stdout",
     "output_type": "stream",
     "text": [
      "3713.48978922 m 5811.12468541 m\n",
      "vehicle approximately shifted left with 0.154166666667 m\n",
      "[640 640 640 ...,  79  79  79]\n"
     ]
    },
    {
     "name": "stderr",
     "output_type": "stream",
     "text": [
      "\r",
      " 71%|███████▏  | 179/251 [01:02<00:26,  2.72it/s]"
     ]
    },
    {
     "name": "stdout",
     "output_type": "stream",
     "text": [
      "3591.92556853 m 6281.59756503 m\n",
      "vehicle approximately shifted left with 0.135666666667 m\n",
      "[640 640 640 ...,  79  79  79]\n"
     ]
    },
    {
     "name": "stderr",
     "output_type": "stream",
     "text": [
      "\r",
      " 72%|███████▏  | 180/251 [01:03<00:25,  2.79it/s]"
     ]
    },
    {
     "name": "stdout",
     "output_type": "stream",
     "text": [
      "3307.51745124 m 5507.54126695 m\n",
      "vehicle approximately shifted left with 0.0801666666667 m\n",
      "[640 640 640 ...,  79  79  79]\n"
     ]
    },
    {
     "name": "stderr",
     "output_type": "stream",
     "text": [
      "\r",
      " 72%|███████▏  | 181/251 [01:03<00:25,  2.74it/s]"
     ]
    },
    {
     "name": "stdout",
     "output_type": "stream",
     "text": [
      "3946.5933851 m 5493.6413231 m\n",
      "vehicle approximately shifted left with 0.0863333333333 m\n",
      "[640 640 640 ...,  79  79  79]\n"
     ]
    },
    {
     "name": "stderr",
     "output_type": "stream",
     "text": [
      "\r",
      " 73%|███████▎  | 182/251 [01:03<00:24,  2.80it/s]"
     ]
    },
    {
     "name": "stdout",
     "output_type": "stream",
     "text": [
      "4042.68037321 m 5079.71548997 m\n",
      "vehicle approximately shifted left with 0.1295 m\n",
      "[640 640 640 ...,  79  79  79]\n"
     ]
    },
    {
     "name": "stderr",
     "output_type": "stream",
     "text": [
      "\r",
      " 73%|███████▎  | 183/251 [01:04<00:24,  2.76it/s]"
     ]
    },
    {
     "name": "stdout",
     "output_type": "stream",
     "text": [
      "4548.3014599 m 4496.27966106 m\n",
      "vehicle approximately shifted left with 0.104833333333 m\n",
      "[640 640 640 ...,  79  79  79]\n"
     ]
    },
    {
     "name": "stderr",
     "output_type": "stream",
     "text": [
      "\r",
      " 73%|███████▎  | 184/251 [01:04<00:23,  2.85it/s]"
     ]
    },
    {
     "name": "stdout",
     "output_type": "stream",
     "text": [
      "5005.07383521 m 4572.98242711 m\n",
      "vehicle approximately shifted left with 0.1295 m\n",
      "[640 640 640 ...,  79  79  79]\n"
     ]
    },
    {
     "name": "stderr",
     "output_type": "stream",
     "text": [
      "\r",
      " 74%|███████▎  | 185/251 [01:04<00:23,  2.77it/s]"
     ]
    },
    {
     "name": "stdout",
     "output_type": "stream",
     "text": [
      "5304.11107339 m 4463.9639588 m\n",
      "vehicle approximately shifted left with 0.135666666667 m\n",
      "[640 640 640 ...,  79  79  79]\n"
     ]
    },
    {
     "name": "stderr",
     "output_type": "stream",
     "text": [
      "\r",
      " 74%|███████▍  | 186/251 [01:05<00:22,  2.84it/s]"
     ]
    },
    {
     "name": "stdout",
     "output_type": "stream",
     "text": [
      "6240.55212106 m 5566.11973371 m\n",
      "vehicle approximately shifted left with 0.154166666667 m\n",
      "[640 640 640 ...,  79  79  79]\n"
     ]
    },
    {
     "name": "stderr",
     "output_type": "stream",
     "text": [
      "\r",
      " 75%|███████▍  | 187/251 [01:05<00:23,  2.76it/s]"
     ]
    },
    {
     "name": "stdout",
     "output_type": "stream",
     "text": [
      "6345.61064316 m 5134.11951397 m\n",
      "vehicle approximately shifted left with 0.154166666667 m\n",
      "[640 640 640 ...,  79  79  79]\n"
     ]
    },
    {
     "name": "stderr",
     "output_type": "stream",
     "text": [
      "\r",
      " 75%|███████▍  | 188/251 [01:05<00:22,  2.81it/s]"
     ]
    },
    {
     "name": "stdout",
     "output_type": "stream",
     "text": [
      "6884.21410523 m 5388.12185912 m\n",
      "vehicle approximately shifted left with 0.141833333333 m\n",
      "[640 640 640 ...,  79  79  79]\n"
     ]
    },
    {
     "name": "stderr",
     "output_type": "stream",
     "text": [
      "\r",
      " 75%|███████▌  | 189/251 [01:06<00:22,  2.76it/s]"
     ]
    },
    {
     "name": "stdout",
     "output_type": "stream",
     "text": [
      "6443.13087083 m 4807.19304659 m\n",
      "vehicle approximately shifted left with 0.185 m\n",
      "[640 640 640 ...,  79  79  79]\n"
     ]
    },
    {
     "name": "stderr",
     "output_type": "stream",
     "text": [
      "\r",
      " 76%|███████▌  | 190/251 [01:06<00:21,  2.82it/s]"
     ]
    },
    {
     "name": "stdout",
     "output_type": "stream",
     "text": [
      "6371.61379333 m 4972.01204092 m\n",
      "vehicle approximately shifted left with 0.191166666667 m\n",
      "[640 640 640 ...,  79  79  79]\n"
     ]
    },
    {
     "name": "stderr",
     "output_type": "stream",
     "text": [
      "\r",
      " 76%|███████▌  | 191/251 [01:07<00:21,  2.78it/s]"
     ]
    },
    {
     "name": "stdout",
     "output_type": "stream",
     "text": [
      "6504.0877434 m 4960.33807823 m\n",
      "vehicle approximately shifted left with 0.215833333333 m\n",
      "[640 640 640 ...,  79  79  79]\n"
     ]
    },
    {
     "name": "stderr",
     "output_type": "stream",
     "text": [
      "\r",
      " 76%|███████▋  | 192/251 [01:07<00:20,  2.82it/s]"
     ]
    },
    {
     "name": "stdout",
     "output_type": "stream",
     "text": [
      "5735.64061839 m 4277.43110534 m\n",
      "vehicle approximately shifted left with 0.222 m\n",
      "[640 640 640 ...,  79  79  79]\n"
     ]
    },
    {
     "name": "stderr",
     "output_type": "stream",
     "text": [
      "\r",
      " 77%|███████▋  | 193/251 [01:07<00:21,  2.72it/s]"
     ]
    },
    {
     "name": "stdout",
     "output_type": "stream",
     "text": [
      "6066.71898982 m 5242.26349033 m\n",
      "vehicle approximately shifted left with 0.0616666666667 m\n",
      "[640 640 640 ...,  79  79  79]\n"
     ]
    },
    {
     "name": "stderr",
     "output_type": "stream",
     "text": [
      "\r",
      " 77%|███████▋  | 194/251 [01:08<00:23,  2.46it/s]"
     ]
    },
    {
     "name": "stdout",
     "output_type": "stream",
     "text": [
      "5568.92211234 m 4962.9960723 m\n",
      "vehicle approximately shifted left with 0.0678333333333 m\n",
      "[640 640 640 ...,  79  79  79]\n"
     ]
    },
    {
     "name": "stderr",
     "output_type": "stream",
     "text": [
      "\r",
      " 78%|███████▊  | 195/251 [01:08<00:21,  2.55it/s]"
     ]
    },
    {
     "name": "stdout",
     "output_type": "stream",
     "text": [
      "5314.29879654 m 5306.15330188 m\n",
      "vehicle approximately shifted left with 0.104833333333 m\n",
      "[640 640 640 ...,  79  79  79]\n"
     ]
    },
    {
     "name": "stderr",
     "output_type": "stream",
     "text": [
      "\r",
      " 78%|███████▊  | 196/251 [01:09<00:21,  2.54it/s]"
     ]
    },
    {
     "name": "stdout",
     "output_type": "stream",
     "text": [
      "4020.92630227 m 4688.54243267 m\n",
      "vehicle approximately shifted left with 0.154166666667 m\n",
      "[640 640 640 ...,  79  79  79]\n"
     ]
    },
    {
     "name": "stderr",
     "output_type": "stream",
     "text": [
      "\r",
      " 78%|███████▊  | 197/251 [01:09<00:20,  2.61it/s]"
     ]
    },
    {
     "name": "stdout",
     "output_type": "stream",
     "text": [
      "3249.37011819 m 2923.96490131 m\n",
      "vehicle approximately shifted left with 0.172666666667 m\n",
      "[640 640 640 ...,  79  79  79]\n"
     ]
    },
    {
     "name": "stderr",
     "output_type": "stream",
     "text": [
      "\r",
      " 79%|███████▉  | 198/251 [01:09<00:20,  2.56it/s]"
     ]
    },
    {
     "name": "stdout",
     "output_type": "stream",
     "text": [
      "2754.86815089 m 3288.88809199 m\n",
      "vehicle approximately shifted left with 0.1665 m\n",
      "[640 640 640 ...,  79  79  79]\n"
     ]
    },
    {
     "name": "stderr",
     "output_type": "stream",
     "text": [
      "\r",
      " 79%|███████▉  | 199/251 [01:10<00:19,  2.66it/s]"
     ]
    },
    {
     "name": "stdout",
     "output_type": "stream",
     "text": [
      "2476.39144121 m 3353.94006739 m\n",
      "vehicle approximately shifted left with 0.154166666667 m\n",
      "[640 640 640 ...,  79  79  79]\n"
     ]
    },
    {
     "name": "stderr",
     "output_type": "stream",
     "text": [
      "\r",
      " 80%|███████▉  | 200/251 [01:10<00:19,  2.60it/s]"
     ]
    },
    {
     "name": "stdout",
     "output_type": "stream",
     "text": [
      "2703.20083054 m 2780.33841532 m\n",
      "vehicle approximately shifted left with 0.160333333333 m\n",
      "[640 640 640 ...,  79  79  79]\n"
     ]
    },
    {
     "name": "stderr",
     "output_type": "stream",
     "text": [
      "\r",
      " 80%|████████  | 201/251 [01:10<00:18,  2.66it/s]"
     ]
    },
    {
     "name": "stdout",
     "output_type": "stream",
     "text": [
      "2600.95305618 m 2460.74648712 m\n",
      "vehicle approximately shifted left with 0.197333333333 m\n",
      "[640 640 640 ...,  79  79  79]\n"
     ]
    },
    {
     "name": "stderr",
     "output_type": "stream",
     "text": [
      "\r",
      " 80%|████████  | 202/251 [01:11<00:18,  2.63it/s]"
     ]
    },
    {
     "name": "stdout",
     "output_type": "stream",
     "text": [
      "2724.89830126 m 2747.96153069 m\n",
      "vehicle approximately shifted left with 0.1665 m\n",
      "[640 640 640 ...,  79  79  79]\n"
     ]
    },
    {
     "name": "stderr",
     "output_type": "stream",
     "text": [
      "\r",
      " 81%|████████  | 203/251 [01:11<00:17,  2.71it/s]"
     ]
    },
    {
     "name": "stdout",
     "output_type": "stream",
     "text": [
      "2969.30654767 m 2854.40821662 m\n",
      "vehicle approximately shifted left with 0.1665 m\n",
      "[640 640 640 ...,  79  79  79]\n"
     ]
    },
    {
     "name": "stderr",
     "output_type": "stream",
     "text": [
      "\r",
      " 81%|████████▏ | 204/251 [01:12<00:17,  2.66it/s]"
     ]
    },
    {
     "name": "stdout",
     "output_type": "stream",
     "text": [
      "2981.28091395 m 2956.72410332 m\n",
      "vehicle approximately shifted left with 0.1665 m\n",
      "[640 640 640 ...,  79  79  79]\n"
     ]
    },
    {
     "name": "stderr",
     "output_type": "stream",
     "text": [
      "\r",
      " 82%|████████▏ | 205/251 [01:12<00:16,  2.76it/s]"
     ]
    },
    {
     "name": "stdout",
     "output_type": "stream",
     "text": [
      "3166.96078463 m 3863.9229368 m\n",
      "vehicle approximately shifted left with 0.0678333333333 m\n",
      "[640 640 640 ...,  79  79  79]\n"
     ]
    },
    {
     "name": "stderr",
     "output_type": "stream",
     "text": [
      "\r",
      " 82%|████████▏ | 206/251 [01:12<00:16,  2.72it/s]"
     ]
    },
    {
     "name": "stdout",
     "output_type": "stream",
     "text": [
      "3256.32475357 m 4074.62683306 m\n",
      "vehicle approximately shifted left with 0.0801666666667 m\n",
      "[640 640 640 ...,  79  79  79]\n"
     ]
    },
    {
     "name": "stderr",
     "output_type": "stream",
     "text": [
      "\r",
      " 82%|████████▏ | 207/251 [01:13<00:15,  2.78it/s]"
     ]
    },
    {
     "name": "stdout",
     "output_type": "stream",
     "text": [
      "3901.15639112 m 3163.94113068 m\n",
      "vehicle approximately shifted left with 0.0863333333333 m\n",
      "[640 640 640 ...,  79  79  79]\n"
     ]
    },
    {
     "name": "stderr",
     "output_type": "stream",
     "text": [
      "\r",
      " 83%|████████▎ | 208/251 [01:13<00:15,  2.71it/s]"
     ]
    },
    {
     "name": "stdout",
     "output_type": "stream",
     "text": [
      "4095.86449802 m 3611.84765099 m\n",
      "vehicle approximately shifted left with 0.0616666666667 m\n",
      "[640 640 640 ...,  79  79  79]\n"
     ]
    },
    {
     "name": "stderr",
     "output_type": "stream",
     "text": [
      "\r",
      " 83%|████████▎ | 209/251 [01:13<00:15,  2.78it/s]"
     ]
    },
    {
     "name": "stdout",
     "output_type": "stream",
     "text": [
      "3976.95213358 m 3346.07165681 m\n",
      "vehicle approximately shifted left with 0.0925 m\n",
      "[640 640 640 ...,  79  79  79]\n"
     ]
    },
    {
     "name": "stderr",
     "output_type": "stream",
     "text": [
      "\r",
      " 84%|████████▎ | 210/251 [01:14<00:15,  2.70it/s]"
     ]
    },
    {
     "name": "stdout",
     "output_type": "stream",
     "text": [
      "3812.42071176 m 2697.76727314 m\n",
      "vehicle approximately shifted left with 0.135666666667 m\n",
      "[640 640 640 ...,  79  79  79]\n"
     ]
    },
    {
     "name": "stderr",
     "output_type": "stream",
     "text": [
      "\r",
      " 84%|████████▍ | 211/251 [01:14<00:14,  2.75it/s]"
     ]
    },
    {
     "name": "stdout",
     "output_type": "stream",
     "text": [
      "3536.02399668 m 2371.30873261 m\n",
      "vehicle approximately shifted left with 0.104833333333 m\n",
      "[640 640 640 ...,  79  79  79]\n"
     ]
    },
    {
     "name": "stderr",
     "output_type": "stream",
     "text": [
      "\r",
      " 84%|████████▍ | 212/251 [01:14<00:14,  2.69it/s]"
     ]
    },
    {
     "name": "stdout",
     "output_type": "stream",
     "text": [
      "3610.08823286 m 2676.62058071 m\n",
      "vehicle approximately shifted left with 0.172666666667 m\n",
      "[640 640 640 ...,  79  79  79]\n"
     ]
    },
    {
     "name": "stderr",
     "output_type": "stream",
     "text": [
      "\r",
      " 85%|████████▍ | 213/251 [01:15<00:13,  2.78it/s]"
     ]
    },
    {
     "name": "stdout",
     "output_type": "stream",
     "text": [
      "3593.35123366 m 2371.0253114 m\n",
      "vehicle approximately shifted left with 0.123333333333 m\n",
      "[640 640 640 ...,  79  79  79]\n"
     ]
    },
    {
     "name": "stderr",
     "output_type": "stream",
     "text": [
      "\r",
      " 85%|████████▌ | 214/251 [01:15<00:13,  2.73it/s]"
     ]
    },
    {
     "name": "stdout",
     "output_type": "stream",
     "text": [
      "3517.37165583 m 2215.33848726 m\n",
      "vehicle approximately shifted left with 0.123333333333 m\n",
      "[640 640 640 ...,  79  79  79]\n"
     ]
    },
    {
     "name": "stderr",
     "output_type": "stream",
     "text": [
      "\r",
      " 86%|████████▌ | 215/251 [01:15<00:12,  2.81it/s]"
     ]
    },
    {
     "name": "stdout",
     "output_type": "stream",
     "text": [
      "3341.20171948 m 2172.17279548 m\n",
      "vehicle approximately shifted left with 0.141833333333 m\n",
      "[640 640 640 ...,  79  79  79]\n"
     ]
    },
    {
     "name": "stderr",
     "output_type": "stream",
     "text": [
      "\r",
      " 86%|████████▌ | 216/251 [01:16<00:12,  2.77it/s]"
     ]
    },
    {
     "name": "stdout",
     "output_type": "stream",
     "text": [
      "3352.18101175 m 2568.36209304 m\n",
      "vehicle approximately shifted left with 0.141833333333 m\n",
      "[640 640 640 ...,  79  79  79]\n"
     ]
    },
    {
     "name": "stderr",
     "output_type": "stream",
     "text": [
      "\r",
      " 86%|████████▋ | 217/251 [01:16<00:12,  2.83it/s]"
     ]
    },
    {
     "name": "stdout",
     "output_type": "stream",
     "text": [
      "3402.18697563 m 3176.7902012 m\n",
      "vehicle approximately shifted left with 0.00616666666667 m\n",
      "[640 640 640 ...,  79  79  79]\n"
     ]
    },
    {
     "name": "stderr",
     "output_type": "stream",
     "text": [
      "\r",
      " 87%|████████▋ | 218/251 [01:17<00:11,  2.78it/s]"
     ]
    },
    {
     "name": "stdout",
     "output_type": "stream",
     "text": [
      "3187.88326244 m 3168.65542747 m\n",
      "vehicle approximately shifted left with 0.0123333333333 m\n",
      "[640 640 640 ...,  79  79  79]\n"
     ]
    },
    {
     "name": "stderr",
     "output_type": "stream",
     "text": [
      "\r",
      " 87%|████████▋ | 219/251 [01:17<00:11,  2.81it/s]"
     ]
    },
    {
     "name": "stdout",
     "output_type": "stream",
     "text": [
      "3264.30271366 m 2997.04581903 m\n",
      "vehicle approximately shifted left with 0.0185 m\n",
      "[640 640 640 ...,  79  79  79]\n"
     ]
    },
    {
     "name": "stderr",
     "output_type": "stream",
     "text": [
      "\r",
      " 88%|████████▊ | 220/251 [01:17<00:11,  2.71it/s]"
     ]
    },
    {
     "name": "stdout",
     "output_type": "stream",
     "text": [
      "2893.37738884 m 3229.95334881 m\n",
      "vehicle approximately shifted left with 0.0246666666667 m\n",
      "[640 640 640 ...,  79  79  79]\n"
     ]
    },
    {
     "name": "stderr",
     "output_type": "stream",
     "text": [
      "\r",
      " 88%|████████▊ | 221/251 [01:18<00:10,  2.76it/s]"
     ]
    },
    {
     "name": "stdout",
     "output_type": "stream",
     "text": [
      "2869.88791604 m 3122.07652173 m\n",
      "vehicle approximately shifted left with 0.0431666666667 m\n",
      "[640 640 640 ...,  79  79  79]\n"
     ]
    },
    {
     "name": "stderr",
     "output_type": "stream",
     "text": [
      "\r",
      " 88%|████████▊ | 222/251 [01:18<00:10,  2.69it/s]"
     ]
    },
    {
     "name": "stdout",
     "output_type": "stream",
     "text": [
      "2665.490677 m 3018.09223808 m\n",
      "vehicle approximately shifted left with 0.037 m\n",
      "[640 640 640 ...,  79  79  79]\n"
     ]
    },
    {
     "name": "stderr",
     "output_type": "stream",
     "text": [
      "\r",
      " 89%|████████▉ | 223/251 [01:18<00:10,  2.73it/s]"
     ]
    },
    {
     "name": "stdout",
     "output_type": "stream",
     "text": [
      "2684.42680045 m 2674.07023535 m\n",
      "vehicle approximately shifted left with 0.0431666666667 m\n",
      "[640 640 640 ...,  79  79  79]\n"
     ]
    },
    {
     "name": "stderr",
     "output_type": "stream",
     "text": [
      "\r",
      " 89%|████████▉ | 224/251 [01:19<00:10,  2.70it/s]"
     ]
    },
    {
     "name": "stdout",
     "output_type": "stream",
     "text": [
      "2868.37601969 m 2961.71799637 m\n",
      "vehicle approximately shifted left with 0.0493333333333 m\n",
      "[640 640 640 ...,  79  79  79]\n"
     ]
    },
    {
     "name": "stderr",
     "output_type": "stream",
     "text": [
      "\r",
      " 90%|████████▉ | 225/251 [01:19<00:09,  2.78it/s]"
     ]
    },
    {
     "name": "stdout",
     "output_type": "stream",
     "text": [
      "2701.52292317 m 2718.70062326 m\n",
      "vehicle approximately shifted left with 0.0555 m\n",
      "[640 640 640 ...,  79  79  79]\n"
     ]
    },
    {
     "name": "stderr",
     "output_type": "stream",
     "text": [
      "\r",
      " 90%|█████████ | 226/251 [01:20<00:09,  2.71it/s]"
     ]
    },
    {
     "name": "stdout",
     "output_type": "stream",
     "text": [
      "2804.42195228 m 3131.05853351 m\n",
      "vehicle approximately shifted left with 0.0555 m\n",
      "[640 640 640 ...,  79  79  79]\n"
     ]
    },
    {
     "name": "stderr",
     "output_type": "stream",
     "text": [
      "\r",
      " 90%|█████████ | 227/251 [01:20<00:08,  2.75it/s]"
     ]
    },
    {
     "name": "stdout",
     "output_type": "stream",
     "text": [
      "2608.91695159 m 3554.36292048 m\n",
      "vehicle approximately shifted left with 0.0678333333333 m\n",
      "[640 640 640 ...,  79  79  79]\n"
     ]
    },
    {
     "name": "stderr",
     "output_type": "stream",
     "text": [
      "\r",
      " 91%|█████████ | 228/251 [01:20<00:08,  2.69it/s]"
     ]
    },
    {
     "name": "stdout",
     "output_type": "stream",
     "text": [
      "2520.79854972 m 3519.18097983 m\n",
      "vehicle approximately shifted left with 0.0801666666667 m\n",
      "[640 640 640 ...,  79  79  79]\n"
     ]
    },
    {
     "name": "stderr",
     "output_type": "stream",
     "text": [
      "\r",
      " 91%|█████████ | 229/251 [01:21<00:08,  2.72it/s]"
     ]
    },
    {
     "name": "stdout",
     "output_type": "stream",
     "text": [
      "2479.61554238 m 3779.47794631 m\n",
      "vehicle approximately shifted right 0.0986666666667 m\n",
      "[640 640 640 ...,  79  79  79]\n"
     ]
    },
    {
     "name": "stderr",
     "output_type": "stream",
     "text": [
      "\r",
      " 92%|█████████▏| 230/251 [01:21<00:07,  2.69it/s]"
     ]
    },
    {
     "name": "stdout",
     "output_type": "stream",
     "text": [
      "2254.23379674 m 3840.19145533 m\n",
      "vehicle approximately shifted right 0.0925 m\n",
      "[640 640 640 ...,  79  79  79]\n"
     ]
    },
    {
     "name": "stderr",
     "output_type": "stream",
     "text": [
      "\r",
      " 92%|█████████▏| 231/251 [01:21<00:07,  2.78it/s]"
     ]
    },
    {
     "name": "stdout",
     "output_type": "stream",
     "text": [
      "2426.01493671 m 4362.52962633 m\n",
      "vehicle approximately shifted right 0.0123333333333 m\n",
      "[640 640 640 ...,  79  79  79]\n"
     ]
    },
    {
     "name": "stderr",
     "output_type": "stream",
     "text": [
      "\r",
      " 92%|█████████▏| 232/251 [01:22<00:07,  2.70it/s]"
     ]
    },
    {
     "name": "stdout",
     "output_type": "stream",
     "text": [
      "2331.09411687 m 4744.30222834 m\n",
      "vehicle approximately shifted right 0.00616666666667 m\n",
      "[640 640 640 ...,  79  79  79]\n"
     ]
    },
    {
     "name": "stderr",
     "output_type": "stream",
     "text": [
      "\r",
      " 93%|█████████▎| 233/251 [01:22<00:06,  2.77it/s]"
     ]
    },
    {
     "name": "stdout",
     "output_type": "stream",
     "text": [
      "2395.12341639 m 4644.52146051 m\n",
      "vehicle approximately shifted right 0.0678333333333 m\n",
      "[640 640 640 ...,  79  79  79]\n"
     ]
    },
    {
     "name": "stderr",
     "output_type": "stream",
     "text": [
      "\r",
      " 93%|█████████▎| 234/251 [01:22<00:06,  2.73it/s]"
     ]
    },
    {
     "name": "stdout",
     "output_type": "stream",
     "text": [
      "2521.84013621 m 4193.19378331 m\n",
      "vehicle approximately shifted right 0.0616666666667 m\n",
      "[640 640 640 ...,  79  79  79]\n"
     ]
    },
    {
     "name": "stderr",
     "output_type": "stream",
     "text": [
      "\r",
      " 94%|█████████▎| 235/251 [01:23<00:05,  2.79it/s]"
     ]
    },
    {
     "name": "stdout",
     "output_type": "stream",
     "text": [
      "2550.81825739 m 4486.03531883 m\n",
      "vehicle approximately shifted right 0.0555 m\n",
      "[640 640 640 ...,  79  79  79]\n"
     ]
    },
    {
     "name": "stderr",
     "output_type": "stream",
     "text": [
      "\r",
      " 94%|█████████▍| 236/251 [01:23<00:05,  2.73it/s]"
     ]
    },
    {
     "name": "stdout",
     "output_type": "stream",
     "text": [
      "2755.12658771 m 4513.81813905 m\n",
      "vehicle approximately shifted right 0.0493333333333 m\n",
      "[640 640 640 ...,  79  79  79]\n"
     ]
    },
    {
     "name": "stderr",
     "output_type": "stream",
     "text": [
      "\r",
      " 94%|█████████▍| 237/251 [01:24<00:05,  2.78it/s]"
     ]
    },
    {
     "name": "stdout",
     "output_type": "stream",
     "text": [
      "2723.30126093 m 4586.24928566 m\n",
      "vehicle approximately shifted right 0.037 m\n",
      "[640 640 640 ...,  79  79  79]\n"
     ]
    },
    {
     "name": "stderr",
     "output_type": "stream",
     "text": [
      "\r",
      " 95%|█████████▍| 238/251 [01:24<00:04,  2.73it/s]"
     ]
    },
    {
     "name": "stdout",
     "output_type": "stream",
     "text": [
      "2908.41195541 m 5288.61244282 m\n",
      "vehicle approximately shifted right 0.0123333333333 m\n",
      "[640 640 640 ...,  79  79  79]\n"
     ]
    },
    {
     "name": "stderr",
     "output_type": "stream",
     "text": [
      "\r",
      " 95%|█████████▌| 239/251 [01:24<00:04,  2.79it/s]"
     ]
    },
    {
     "name": "stdout",
     "output_type": "stream",
     "text": [
      "3269.9041981 m 5027.99773758 m\n",
      "vehicle approximately shifted right 0.0308333333333 m\n",
      "[640 640 640 ...,  79  79  79]\n"
     ]
    },
    {
     "name": "stderr",
     "output_type": "stream",
     "text": [
      "\r",
      " 96%|█████████▌| 240/251 [01:25<00:04,  2.72it/s]"
     ]
    },
    {
     "name": "stdout",
     "output_type": "stream",
     "text": [
      "3221.95865792 m 5115.78128862 m\n",
      "vehicle approximately shifted right 0.00616666666667 m\n",
      "[640 640 640 ...,  79  79  79]\n"
     ]
    },
    {
     "name": "stderr",
     "output_type": "stream",
     "text": [
      "\r",
      " 96%|█████████▌| 241/251 [01:25<00:03,  2.77it/s]"
     ]
    },
    {
     "name": "stdout",
     "output_type": "stream",
     "text": [
      "3105.85369523 m 4584.81695187 m\n",
      "vehicle approximately centered\n",
      "[640 640 640 ...,  79  79  79]\n"
     ]
    },
    {
     "name": "stderr",
     "output_type": "stream",
     "text": [
      "\r",
      " 96%|█████████▋| 242/251 [01:25<00:03,  2.73it/s]"
     ]
    },
    {
     "name": "stdout",
     "output_type": "stream",
     "text": [
      "2981.43853828 m 4330.93776598 m\n",
      "vehicle approximately shifted right 0.0925 m\n",
      "[640 640 640 ...,  79  79  79]\n"
     ]
    },
    {
     "name": "stderr",
     "output_type": "stream",
     "text": [
      "\r",
      " 97%|█████████▋| 243/251 [01:26<00:02,  2.79it/s]"
     ]
    },
    {
     "name": "stdout",
     "output_type": "stream",
     "text": [
      "3340.90956039 m 4274.29124164 m\n",
      "vehicle approximately shifted right 0.0986666666667 m\n",
      "[640 640 640 ...,  79  79  79]\n"
     ]
    },
    {
     "name": "stderr",
     "output_type": "stream",
     "text": [
      "\r",
      " 97%|█████████▋| 244/251 [01:26<00:02,  2.71it/s]"
     ]
    },
    {
     "name": "stdout",
     "output_type": "stream",
     "text": [
      "3208.72033022 m 4447.55828208 m\n",
      "vehicle approximately shifted right 0.0678333333333 m\n",
      "[640 640 640 ...,  79  79  79]\n"
     ]
    },
    {
     "name": "stderr",
     "output_type": "stream",
     "text": [
      "\r",
      " 98%|█████████▊| 245/251 [01:26<00:02,  2.80it/s]"
     ]
    },
    {
     "name": "stdout",
     "output_type": "stream",
     "text": [
      "3405.45440481 m 4788.15444263 m\n",
      "vehicle approximately shifted right 0.135666666667 m\n",
      "[640 640 640 ...,  79  79  79]\n"
     ]
    },
    {
     "name": "stderr",
     "output_type": "stream",
     "text": [
      "\r",
      " 98%|█████████▊| 246/251 [01:27<00:01,  2.75it/s]"
     ]
    },
    {
     "name": "stdout",
     "output_type": "stream",
     "text": [
      "3505.58592528 m 5146.23325134 m\n",
      "vehicle approximately shifted right 0.123333333333 m\n",
      "[640 640 640 ...,  79  79  79]\n"
     ]
    },
    {
     "name": "stderr",
     "output_type": "stream",
     "text": [
      "\r",
      " 98%|█████████▊| 247/251 [01:27<00:01,  2.82it/s]"
     ]
    },
    {
     "name": "stdout",
     "output_type": "stream",
     "text": [
      "3391.4591626 m 4759.41870416 m\n",
      "vehicle approximately shifted right 0.0555 m\n",
      "[640 640 640 ...,  79  79  79]\n"
     ]
    },
    {
     "name": "stderr",
     "output_type": "stream",
     "text": [
      "\r",
      " 99%|█████████▉| 248/251 [01:27<00:01,  2.77it/s]"
     ]
    },
    {
     "name": "stdout",
     "output_type": "stream",
     "text": [
      "3744.50001742 m 5932.07135106 m\n",
      "vehicle approximately shifted right 0.0246666666667 m\n",
      "[640 640 640 ...,  79  79  79]\n"
     ]
    },
    {
     "name": "stderr",
     "output_type": "stream",
     "text": [
      "\r",
      " 99%|█████████▉| 249/251 [01:28<00:00,  2.83it/s]"
     ]
    },
    {
     "name": "stdout",
     "output_type": "stream",
     "text": [
      "3453.65225065 m 5316.44153317 m\n",
      "vehicle approximately shifted right 0.0616666666667 m\n",
      "[640 640 640 ...,  79  79  79]\n"
     ]
    },
    {
     "name": "stderr",
     "output_type": "stream",
     "text": [
      "\r",
      "100%|█████████▉| 250/251 [01:28<00:00,  2.77it/s]"
     ]
    },
    {
     "name": "stdout",
     "output_type": "stream",
     "text": [
      "3361.03035041 m 5299.10033887 m\n",
      "vehicle approximately shifted right 0.0555 m\n",
      "[640 640 640 ...,  79  79  79]\n"
     ]
    },
    {
     "name": "stderr",
     "output_type": "stream",
     "text": [
      "\n"
     ]
    },
    {
     "name": "stdout",
     "output_type": "stream",
     "text": [
      "[MoviePy] Done.\n",
      "[MoviePy] >>>> Video ready: /home/workspace/CarND-Advanced-Lane-Lines/output_video.mp4 \n",
      "\n",
      "CPU times: user 51.3 s, sys: 15.6 s, total: 1min 6s\n",
      "Wall time: 1min 31s\n"
     ]
    }
   ],
   "source": [
    "output_video='/home/workspace/CarND-Advanced-Lane-Lines/output_video.mp4'\n",
    "clip1 = VideoFileClip(\"/home/workspace/CarND-Advanced-Lane-Lines/project_video.mp4\").subclip(0,10)\n",
    "each_clip = clip1.fl_image(process_frame)\n",
    "%time each_clip.write_videofile(output_video, audio=False)\n",
    "\n"
   ]
  },
  {
   "cell_type": "code",
   "execution_count": 19,
   "metadata": {},
   "outputs": [
    {
     "data": {
      "text/html": [
       "\n",
       "<video width=\"960\" height=\"540\" controls>\n",
       "  <source src=\"/home/workspace/CarND-Advanced-Lane-Lines/output_video.mp4\">\n",
       "</video>\n"
      ],
      "text/plain": [
       "<IPython.core.display.HTML object>"
      ]
     },
     "execution_count": 19,
     "metadata": {},
     "output_type": "execute_result"
    }
   ],
   "source": [
    "HTML(\"\"\"\n",
    "<video width=\"960\" height=\"540\" controls>\n",
    "  <source src=\"{0}\">\n",
    "</video>\n",
    "\"\"\".format(output_video))"
   ]
  },
  {
   "cell_type": "code",
   "execution_count": null,
   "metadata": {},
   "outputs": [],
   "source": []
  }
 ],
 "metadata": {
  "celltoolbar": "Raw Cell Format",
  "kernelspec": {
   "display_name": "Python 3",
   "language": "python",
   "name": "python3"
  },
  "language_info": {
   "codemirror_mode": {
    "name": "ipython",
    "version": 3
   },
   "file_extension": ".py",
   "mimetype": "text/x-python",
   "name": "python",
   "nbconvert_exporter": "python",
   "pygments_lexer": "ipython3",
   "version": "3.6.3"
  }
 },
 "nbformat": 4,
 "nbformat_minor": 2
}
