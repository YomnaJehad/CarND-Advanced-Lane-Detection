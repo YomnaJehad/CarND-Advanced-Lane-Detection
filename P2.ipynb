{
 "cells": [
  {
   "cell_type": "markdown",
   "metadata": {},
   "source": [
    "# Advanced Lane Finding Project\n",
    "## The goals / steps of this project are the following:\n",
    "* Compute the camera calibration matrix and distortion coefficients given a set of chessboard images.\n",
    "* Apply a distortion correction to raw images.\n",
    "* Use color transforms, gradients, etc., to create a thresholded binary image.\n",
    "* Apply a perspective transform to rectify binary image (\"birds-eye view\").\n",
    "* Detect lane pixels and fit to find the lane boundary.\n",
    "* Determine the curvature of the lane and vehicle position with respect to center.\n",
    "* Warp the detected lane boundaries back onto the original image.\n",
    "* Output visual display of the lane boundaries and numerical estimation of lane curvature and vehicle position.<br />\n"
   ]
  },
  {
   "cell_type": "code",
   "execution_count": 13,
   "metadata": {},
   "outputs": [],
   "source": [
    "#First the imports\n",
    "import numpy as np\n",
    "import cv2\n",
    "import glob #it didn't work with me for some reason in the workspace but let's keep it just in case\n",
    "import matplotlib.pyplot as plt\n",
    "import matplotlib.image as mpimg #i will try to use the plotting method of the previous project\n",
    "\n",
    "%matplotlib inline\n"
   ]
  },
  {
   "cell_type": "markdown",
   "metadata": {},
   "source": [
    "## Now I'll compute the camera calibration using chessboard images"
   ]
  },
  {
   "cell_type": "code",
   "execution_count": 39,
   "metadata": {},
   "outputs": [
    {
     "data": {
      "text/plain": [
       "\"\\ntestImageInput=mpimg.imread('/home/workspace/CarND-Advanced-Lane-Lines/camera_cal/calibration20.jpg')\\ntestImageOutput= cv2.undistort(testImageInput,mtx,dist,None,mtx)\\n\\nf, (ax1, ax2) = plt.subplots(1, 2, figsize=(24, 9))\\nf.tight_layout()\\nax1.imshow(testImageInput)\\nax1.set_title('Original Image', fontsize=50)\\nax2.imshow(testImageOutput)\\nax2.set_title('Undistorted Image', fontsize=50)\\nplt.subplots_adjust(left=0., right=1, top=0.9, bottom=0.)\\n\""
      ]
     },
     "execution_count": 39,
     "metadata": {},
     "output_type": "execute_result"
    }
   ],
   "source": [
    "\n",
    "# prepare object points, like (0,0,0), (1,0,0), (2,0,0) ....,(6,5,0)\n",
    "nx=9 #number of corners horizontally \n",
    "ny=6 #number of corners vertically\n",
    "objp = np.zeros((ny*nx,3), np.float32)\n",
    "objp[:,:2] = np.mgrid[0:9,0:6].T.reshape(-1,2)\n",
    "\n",
    "# Arrays to store object points and image points from all the images.\n",
    "\n",
    "objpoints = [] # 3d points in real world space, but the z coordinate has to always be zero, because the pictures were taken on a flat surface\n",
    "imgpoints = [] # 2d points in image plane.\n",
    "\n",
    "# Make a list of calibration images\n",
    "\n",
    "images=[]\n",
    "for i in range(1,21):\n",
    "    s='/home/workspace/CarND-Advanced-Lane-Lines/camera_cal/calibration'+str(i)+'.jpg'\n",
    "    #print(s)\n",
    "    img=mpimg.imread(s)\n",
    "    images.append(img)\n",
    "    \n",
    "    #plt.imshow(img)\n",
    "#print(len(images))\n",
    "\n",
    "# Step through the list and search for chessboard corners\n",
    "\n",
    "for img in images:\n",
    "    #First transform to grayScale because this is what the cv2 calibration functions deal with\n",
    "    gray = cv2.cvtColor(img,cv2.COLOR_BGR2GRAY)\n",
    "    # Find the chessboard corners\n",
    "    ret, corners = cv2.findChessboardCorners(gray, (nx,ny),None)\n",
    "\n",
    "    # If found, add object points, image points\n",
    "    if ret == True:\n",
    "        objpoints.append(objp) \n",
    "        imgpoints.append(corners)\n",
    "        #print(corners)\n",
    "\n",
    "        # Draw and display the corners -Not an important step, just for testing and visualization\n",
    "        img = cv2.drawChessboardCorners(img, (nx,ny), corners, ret)\n",
    "        #plt.imshow(img)\n",
    "        \n",
    "#NOW i have the corners of all the distorted images, it's time to calculate the calibration matrices\n",
    "\n",
    "gray=cv2.cvtColor(images[1],cv2.COLOR_BGR2GRAY)\n",
    "ret,mtx,dist,rvecs,tvecs=cv2.calibrateCamera(objpoints,imgpoints,gray.shape[::-1],None,None)\n",
    "\n",
    "#Now that i have the matrices i want to test the undistortion correction, so i'll try it on one of the test images\n",
    "\"\"\"\n",
    "testImageInput=mpimg.imread('/home/workspace/CarND-Advanced-Lane-Lines/camera_cal/calibration20.jpg')\n",
    "testImageOutput= cv2.undistort(testImageInput,mtx,dist,None,mtx)\n",
    "\n",
    "f, (ax1, ax2) = plt.subplots(1, 2, figsize=(24, 9))\n",
    "f.tight_layout()\n",
    "ax1.imshow(testImageInput)\n",
    "ax1.set_title('Original Image', fontsize=50)\n",
    "ax2.imshow(testImageOutput)\n",
    "ax2.set_title('Undistorted Image', fontsize=50)\n",
    "plt.subplots_adjust(left=0., right=1, top=0.9, bottom=0.)\n",
    "\"\"\"\n",
    "\n",
    "#Now that the testing worked fine, it means we have a good distortion correction matrices\n",
    "#Each time i want to undistort a Frame, i call the cv2.undistort(frameImage,mtx,dist,None,mtx) and it returns\n",
    "#the undistorted frame\n",
    "#NOW let's head to the next step,Color Space transformation\n"
   ]
  },
  {
   "cell_type": "markdown",
   "metadata": {},
   "source": [
    "## Now transform images into a suitable Color Space"
   ]
  },
  {
   "cell_type": "code",
   "execution_count": null,
   "metadata": {},
   "outputs": [],
   "source": [
    "#I'm going to transform the images into HLS: Hue, Light, Saturation Color Space because i'm expecting the images\n",
    "#to be in difficult light conditions, so if we exclude the Light from HLS, we should find it easy to know the\n",
    "# color of objects in the image\n",
    "#Note to self: i made this step before the perspective transform because i just thought to transform a part of the\n",
    "#image that's already undistorted and in binary form, is a nicer thing to do.. idk..\n"
   ]
  }
 ],
 "metadata": {
  "celltoolbar": "Raw Cell Format",
  "kernelspec": {
   "display_name": "Python 3",
   "language": "python",
   "name": "python3"
  }
 },
 "nbformat": 4,
 "nbformat_minor": 2
}
